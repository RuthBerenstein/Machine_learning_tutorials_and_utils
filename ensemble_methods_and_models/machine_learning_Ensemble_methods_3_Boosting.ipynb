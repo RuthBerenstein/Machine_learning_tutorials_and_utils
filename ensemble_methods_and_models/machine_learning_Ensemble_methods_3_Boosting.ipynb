{
 "cells": [
  {
   "cell_type": "markdown",
   "metadata": {},
   "source": [
    "# Ensemble Models Part 3  - Boosting \n",
    "![ChessUrl](https://media.giphy.com/media/l378octkVFCX8ApaM/giphy.gif)\n",
    "![ChessUrl](https://media.giphy.com/media/fSYYKe1ETNpMUdjSbv/giphy.gif)"
   ]
  },
  {
   "cell_type": "markdown",
   "metadata": {},
   "source": [
    "# Ensemble models - Summary \n",
    "\n",
    "Ensemble models, combine the predictions of multiple models, to improve the overall performance. \n",
    "\n",
    "## Simple ensemble Methods : Voting and averaging\n",
    "\n",
    "Simple ensemble learning methods use a group of existing models, and combine their predictions by voting or averaging. Advanced ensemble models, create a group of models on the given train data set, then combined their predictions in one of simple ensemble methods.\n"
   ]
  },
  {
   "cell_type": "markdown",
   "metadata": {},
   "source": [
    "# Advanced ensemble methods\n",
    "\n",
    "## Bagging (Bootstrap Aggregating)\n",
    "Bagging is an ensemble method. Here are a rough scheme:\n",
    "\n",
    "1. Create random subset samples of the training data.\n",
    "2. Build a model ,Decision tree for example, and fit it to each sample.\n",
    "3. Combined multiple results by using simple ensemble methods as voting and avreging.\n",
    "\n",
    "#### BaggingClassifier - Bagging in scikit-learn\n",
    "\n",
    "This ensemble method or meta-classifier is implemented in sk-learn by  BaggingClassifier class.\n",
    "* http://scikit-learn.org/stable/modules/generated/sklearn.ensemble.BaggingClassifier.html \n",
    "\n",
    "#### Random forest \n",
    "\n",
    "Random forest model, technique actually uses this Begging concept.\n",
    "But Random forest, add verasity to its models, by choosing a different subset of features to fit to each model, as well to each bootstrapped sample.\n",
    "\n",
    "## Boosting\n",
    "Boosting is an **iterative technique**, meaning we promote step by step, hopefully to to a better solution.  In each step, we build a model, that is based on a feedback of the previous model.\n",
    "\n",
    "Boosting algorithms, show good predictive accuracy, the best from the models we saw so far. But with it comes high variance and the tendency to overfit.\n",
    "\n",
    "#### AdaBoost\n",
    "\n",
    "AdaBoost method, fit a sequence of base models on repeatedly modified versions of the data. At each boosting iteration the samples that were misclassified in the previous iteration are given higher weights, while the correctly-classified samples are given lower weights.\n",
    "* https://scikit-learn.org/stable/modules/generated/sklearn.ensemble.AdaBoostClassifier.html\n",
    "\n",
    "\n",
    "#### Gradient descent\n",
    "Gradient descent is a known boosting method, that aims to diminish a given loss function iterativly. In Gradient descent, we step \"down\" the the loss function in the direction of the derivative. \n",
    "\n",
    "#### Gradient Boosting \n",
    "\n",
    "Boosting technique, with decision tree as base model, and Gradient decent as boosting method.\n",
    "\n",
    "Gradient Boosting builds an additive model in a forward stage-wise fashion; it allows for the optimization of arbitrary differentiable loss functions. \n",
    "\n",
    "* https://scikit-learn.org/stable/modules/generated/sklearn.ensemble.GradientBoostingClassifier.html\n",
    "\n",
    "\n",
    "### XGBoost\n",
    "XGBoost stands for eXtreme Gradient Boosting.\n",
    "It is improved version of the Gradient Boosting. Few of the improvments are:\n",
    "* Xgboost does regularization of the tree as well to avoid overfitting.\n",
    "* Xgboost deals with the missing values efficiently.\n",
    "* Xgboost uses optimization techniques to yield superior results using less computing resources in the shortest amount of time.\n",
    "\n",
    "Following link to learn xgboost:\n",
    "* https://www.youtube.com/watch?v=Vly8xGnNiWs"
   ]
  },
  {
   "cell_type": "code",
   "execution_count": 71,
   "metadata": {},
   "outputs": [],
   "source": [
    "from pandas import read_csv\n",
    "from sklearn.linear_model import LogisticRegression\n",
    "from sklearn.tree import DecisionTreeClassifier, DecisionTreeRegressor\n",
    "from sklearn.svm import SVC\n",
    "from sklearn.ensemble import VotingClassifier, BaggingClassifier, \\\n",
    "    AdaBoostClassifier, GradientBoostingClassifier, AdaBoostRegressor, GradientBoostingRegressor\n",
    "from sklearn.model_selection import train_test_split\n",
    "import numpy as np\n",
    "import matplotlib.pyplot as plt\n",
    "import pandas as pd\n",
    "%matplotlib inline\n",
    "from sklearn.metrics import confusion_matrix, classification_report\n",
    "from sklearn.metrics import accuracy_score\n",
    "from sklearn.utils import shuffle\n",
    "import warnings\n",
    "warnings.filterwarnings('ignore')\n",
    "%matplotlib inline"
   ]
  },
  {
   "cell_type": "code",
   "execution_count": 72,
   "metadata": {},
   "outputs": [],
   "source": [
    "def classification_results(y, y_pred, name='', classes=['no', 'yes'], add_rep=False):\n",
    "    acc = accuracy_score(y, y_pred)\n",
    "                        \n",
    "    cm = pd.DataFrame(confusion_matrix(y, y_pred), \n",
    "                      index=classes, \n",
    "                      columns=classes)\n",
    "\n",
    "    print(name + ' accuracy: ', round(acc,4))\n",
    "    print()\n",
    "    print(cm)\n",
    "    print()\n",
    "    if (add_rep):\n",
    "        print(name + ' Classification report: ')\n",
    "        print(classification_report(y, y_pred))\n"
   ]
  },
  {
   "cell_type": "code",
   "execution_count": 73,
   "metadata": {},
   "outputs": [],
   "source": [
    "import sklearn.metrics as metrics\n",
    "def regression_results(y_true, y_pred, name=''):\n",
    "    \n",
    "    # Regression metrics\n",
    "    explained_variance=metrics.explained_variance_score(y_true, y_pred)\n",
    "    mean_absolute_error=metrics.mean_absolute_error(y_true, y_pred) \n",
    "    mse=metrics.mean_squared_error(y_true, y_pred) \n",
    "    median_absolute_error=metrics.median_absolute_error(y_true, y_pred)\n",
    "    r2=metrics.r2_score(y_true, y_pred)\n",
    "\n",
    "    print(name )\n",
    "    print('explained_variance: ', round(explained_variance,4))    \n",
    "    print('r2: ', round(r2,4))\n",
    "    print('MAE: ', round(mean_absolute_error,4))\n",
    "    print('MSE: ', round(mse,4))\n",
    "    print('RMSE: ', round(np.sqrt(mse),4))"
   ]
  },
  {
   "cell_type": "markdown",
   "metadata": {},
   "source": [
    "## Scikit-learn AdaBoost\n",
    "\n",
    "Scikit-learn AdaBoost class implements the AdaBoost method. The main arguments are:\n",
    "* base_estimator - the weak learner used.\n",
    "* n_estimators- the maximum number of iterations\n",
    "* learning_rate - The 'size' of the correction in each iterative step, or the amount of impact of the former classifiers on the boosting process.\n",
    "\n",
    "\n",
    "> AdaBoost relatively sensitive to noisy data and outliers,since it tries to improve performance by iteratively clinging to the mis-classified samples.\n",
    "\n",
    "#### AdaBoost example with digits dataset"
   ]
  },
  {
   "cell_type": "code",
   "execution_count": 74,
   "metadata": {
    "scrolled": true
   },
   "outputs": [
    {
     "data": {
      "text/plain": [
       "AdaBoostClassifier(algorithm='SAMME.R',\n",
       "          base_estimator=DecisionTreeClassifier(class_weight=None, criterion='gini', max_depth=3,\n",
       "            max_features=None, max_leaf_nodes=None,\n",
       "            min_impurity_decrease=0.0, min_impurity_split=None,\n",
       "            min_samples_leaf=1, min_samples_split=2,\n",
       "            min_weight_fraction_leaf=0.0, presort=False, random_state=None,\n",
       "            splitter='best'),\n",
       "          learning_rate=0.01, n_estimators=200, random_state=None)"
      ]
     },
     "execution_count": 74,
     "metadata": {},
     "output_type": "execute_result"
    }
   ],
   "source": [
    "from sklearn import datasets\n",
    "\n",
    "data = datasets.load_digits()\n",
    "X = data['data']\n",
    "y = data['target']\n",
    "X_train, X_test, y_train, y_test = train_test_split(X,y, test_size=0.2,\n",
    "                                                        random_state=0)\n",
    "\n",
    "clf_base = DecisionTreeClassifier(max_depth=3)\n",
    "\n",
    "clf_adaboost = AdaBoostClassifier(base_estimator=clf_base,\n",
    "                                  n_estimators=200,\n",
    "                                  learning_rate=0.01)\n",
    "clf_adaboost.fit(X_train, y_train)"
   ]
  },
  {
   "cell_type": "code",
   "execution_count": 75,
   "metadata": {},
   "outputs": [
    {
     "name": "stdout",
     "output_type": "stream",
     "text": [
      "AdaBoost train accuracy:  0.936\n",
      "\n",
      "     0    1    2    3    4    5    6    7    8    9\n",
      "0  151    0    0    0    0    0    0    0    0    0\n",
      "1    0  103    0    1    0    0    0    0   33   10\n",
      "2    0    0  128    3    0    0    0    0    9    1\n",
      "3    0    0    0  129    0    1    0    1    4   19\n",
      "4    0    0    0    0  148    0    3    0    0    0\n",
      "5    0    0    0    0    0  141    0    0    0    1\n",
      "6    0    0    0    0    0    0  136    0    1    0\n",
      "7    0    0    0    0    0    0    0  136    4    0\n",
      "8    0    0    0    0    0    0    0    0  135    0\n",
      "9    0    0    0    0    0    0    0    1    0  138\n",
      "\n",
      "AdaBoost train Classification report: \n",
      "              precision    recall  f1-score   support\n",
      "\n",
      "           0       1.00      1.00      1.00       151\n",
      "           1       1.00      0.70      0.82       147\n",
      "           2       1.00      0.91      0.95       141\n",
      "           3       0.97      0.84      0.90       154\n",
      "           4       1.00      0.98      0.99       151\n",
      "           5       0.99      0.99      0.99       142\n",
      "           6       0.98      0.99      0.99       137\n",
      "           7       0.99      0.97      0.98       140\n",
      "           8       0.73      1.00      0.84       135\n",
      "           9       0.82      0.99      0.90       139\n",
      "\n",
      "   micro avg       0.94      0.94      0.94      1437\n",
      "   macro avg       0.95      0.94      0.94      1437\n",
      "weighted avg       0.95      0.94      0.94      1437\n",
      "\n"
     ]
    }
   ],
   "source": [
    "classification_results(y_train, clf_adaboost.predict(X_train), name='AdaBoost train', \n",
    "                       classes=data.target_names, add_rep=True)"
   ]
  },
  {
   "cell_type": "code",
   "execution_count": 76,
   "metadata": {},
   "outputs": [
    {
     "name": "stdout",
     "output_type": "stream",
     "text": [
      "AdaBoost test accuracy:  0.8917\n",
      "\n",
      "    0   1   2   3   4   5   6   7   8   9\n",
      "0  25   0   0   1   0   1   0   0   0   0\n",
      "1   0  25   0   1   0   0   0   0   6   3\n",
      "2   0   1  25   5   0   0   0   0   5   0\n",
      "3   0   0   0  26   0   0   0   0   1   2\n",
      "4   0   1   0   0  29   0   0   0   0   0\n",
      "5   0   0   0   0   1  36   0   0   0   3\n",
      "6   0   0   0   1   0   0  42   0   1   0\n",
      "7   0   0   0   0   0   0   0  38   1   0\n",
      "8   0   1   0   1   0   0   0   0  37   0\n",
      "9   0   0   0   2   0   1   0   0   0  38\n",
      "\n",
      "AdaBoost test Classification report: \n",
      "              precision    recall  f1-score   support\n",
      "\n",
      "           0       1.00      0.93      0.96        27\n",
      "           1       0.89      0.71      0.79        35\n",
      "           2       1.00      0.69      0.82        36\n",
      "           3       0.70      0.90      0.79        29\n",
      "           4       0.97      0.97      0.97        30\n",
      "           5       0.95      0.90      0.92        40\n",
      "           6       1.00      0.95      0.98        44\n",
      "           7       1.00      0.97      0.99        39\n",
      "           8       0.73      0.95      0.82        39\n",
      "           9       0.83      0.93      0.87        41\n",
      "\n",
      "   micro avg       0.89      0.89      0.89       360\n",
      "   macro avg       0.91      0.89      0.89       360\n",
      "weighted avg       0.91      0.89      0.89       360\n",
      "\n"
     ]
    }
   ],
   "source": [
    "classification_results(y_test, clf_adaboost.predict(X_test), name='AdaBoost test', \n",
    "                       classes=data.target_names, add_rep=True)"
   ]
  },
  {
   "cell_type": "code",
   "execution_count": 77,
   "metadata": {},
   "outputs": [
    {
     "data": {
      "text/plain": [
       "AdaBoostClassifier(algorithm='SAMME.R',\n",
       "          base_estimator=LogisticRegression(C=1.0, class_weight=None, dual=False, fit_intercept=True,\n",
       "          intercept_scaling=1, max_iter=100, multi_class='warn',\n",
       "          n_jobs=None, penalty='l2', random_state=None, solver='warn',\n",
       "          tol=0.0001, verbose=0, warm_start=False),\n",
       "          learning_rate=0.01, n_estimators=200, random_state=None)"
      ]
     },
     "execution_count": 77,
     "metadata": {},
     "output_type": "execute_result"
    }
   ],
   "source": [
    "clf_base = LogisticRegression()\n",
    "\n",
    "clf_adaboost = AdaBoostClassifier(base_estimator=clf_base,\n",
    "                                  n_estimators=200,\n",
    "                                  learning_rate=0.01)\n",
    "clf_adaboost.fit(X_train, y_train)"
   ]
  },
  {
   "cell_type": "code",
   "execution_count": 78,
   "metadata": {},
   "outputs": [
    {
     "name": "stdout",
     "output_type": "stream",
     "text": [
      "AdaBoost train accuracy:  0.9763\n",
      "\n",
      "     0    1    2    3    4    5    6    7    8    9\n",
      "0  151    0    0    0    0    0    0    0    0    0\n",
      "1    0  139    1    0    1    0    0    0    4    2\n",
      "2    0    1  140    0    0    0    0    0    0    0\n",
      "3    0    0    0  151    0    0    0    0    2    1\n",
      "4    0    1    0    0  147    0    0    0    3    0\n",
      "5    0    0    0    0    0  138    1    0    0    3\n",
      "6    0    2    0    0    1    0  133    0    1    0\n",
      "7    0    0    0    0    0    0    0  138    1    1\n",
      "8    0    3    0    0    0    0    0    0  132    0\n",
      "9    0    0    0    1    0    1    0    0    3  134\n",
      "\n"
     ]
    }
   ],
   "source": [
    "classification_results(y_train, clf_adaboost.predict(X_train), name='AdaBoost train', \n",
    "                       classes=data.target_names)"
   ]
  },
  {
   "cell_type": "code",
   "execution_count": 79,
   "metadata": {},
   "outputs": [
    {
     "name": "stdout",
     "output_type": "stream",
     "text": [
      "AdaBoost test accuracy:  0.9611\n",
      "\n",
      "    0   1   2   3   4   5   6   7   8   9\n",
      "0  27   0   0   0   0   0   0   0   0   0\n",
      "1   0  31   0   0   0   0   1   0   1   2\n",
      "2   0   0  34   0   0   0   0   1   1   0\n",
      "3   0   0   0  29   0   0   0   0   0   0\n",
      "4   0   0   0   0  29   0   0   1   0   0\n",
      "5   0   0   0   0   0  39   0   0   0   1\n",
      "6   0   1   0   0   0   0  43   0   0   0\n",
      "7   0   0   0   0   2   0   0  37   0   0\n",
      "8   0   1   1   0   0   0   0   0  37   0\n",
      "9   0   0   0   0   0   1   0   0   0  40\n",
      "\n"
     ]
    }
   ],
   "source": [
    "classification_results(y_test, clf_adaboost.predict(X_test), name='AdaBoost test', \n",
    "                       classes=data.target_names)"
   ]
  },
  {
   "cell_type": "markdown",
   "metadata": {},
   "source": [
    "### AdaBoost regression example with Boston data\n",
    "In the following example, we compare Decision tree regressor to AdaBoost regressor that is based on this decision tree."
   ]
  },
  {
   "cell_type": "code",
   "execution_count": 80,
   "metadata": {},
   "outputs": [],
   "source": [
    "data = datasets.load_boston()\n"
   ]
  },
  {
   "cell_type": "code",
   "execution_count": 81,
   "metadata": {},
   "outputs": [
    {
     "data": {
      "text/html": [
       "<div>\n",
       "<style scoped>\n",
       "    .dataframe tbody tr th:only-of-type {\n",
       "        vertical-align: middle;\n",
       "    }\n",
       "\n",
       "    .dataframe tbody tr th {\n",
       "        vertical-align: top;\n",
       "    }\n",
       "\n",
       "    .dataframe thead th {\n",
       "        text-align: right;\n",
       "    }\n",
       "</style>\n",
       "<table border=\"1\" class=\"dataframe\">\n",
       "  <thead>\n",
       "    <tr style=\"text-align: right;\">\n",
       "      <th></th>\n",
       "      <th>CRIM</th>\n",
       "      <th>ZN</th>\n",
       "      <th>INDUS</th>\n",
       "      <th>CHAS</th>\n",
       "      <th>NOX</th>\n",
       "      <th>RM</th>\n",
       "      <th>AGE</th>\n",
       "      <th>DIS</th>\n",
       "      <th>RAD</th>\n",
       "      <th>TAX</th>\n",
       "      <th>PTRATIO</th>\n",
       "      <th>B</th>\n",
       "      <th>LSTAT</th>\n",
       "      <th>target</th>\n",
       "    </tr>\n",
       "  </thead>\n",
       "  <tbody>\n",
       "    <tr>\n",
       "      <th>0</th>\n",
       "      <td>0.00632</td>\n",
       "      <td>18.0</td>\n",
       "      <td>2.31</td>\n",
       "      <td>0.0</td>\n",
       "      <td>0.538</td>\n",
       "      <td>6.575</td>\n",
       "      <td>65.2</td>\n",
       "      <td>4.0900</td>\n",
       "      <td>1.0</td>\n",
       "      <td>296.0</td>\n",
       "      <td>15.3</td>\n",
       "      <td>396.90</td>\n",
       "      <td>4.98</td>\n",
       "      <td>24.0</td>\n",
       "    </tr>\n",
       "    <tr>\n",
       "      <th>1</th>\n",
       "      <td>0.02731</td>\n",
       "      <td>0.0</td>\n",
       "      <td>7.07</td>\n",
       "      <td>0.0</td>\n",
       "      <td>0.469</td>\n",
       "      <td>6.421</td>\n",
       "      <td>78.9</td>\n",
       "      <td>4.9671</td>\n",
       "      <td>2.0</td>\n",
       "      <td>242.0</td>\n",
       "      <td>17.8</td>\n",
       "      <td>396.90</td>\n",
       "      <td>9.14</td>\n",
       "      <td>21.6</td>\n",
       "    </tr>\n",
       "    <tr>\n",
       "      <th>2</th>\n",
       "      <td>0.02729</td>\n",
       "      <td>0.0</td>\n",
       "      <td>7.07</td>\n",
       "      <td>0.0</td>\n",
       "      <td>0.469</td>\n",
       "      <td>7.185</td>\n",
       "      <td>61.1</td>\n",
       "      <td>4.9671</td>\n",
       "      <td>2.0</td>\n",
       "      <td>242.0</td>\n",
       "      <td>17.8</td>\n",
       "      <td>392.83</td>\n",
       "      <td>4.03</td>\n",
       "      <td>34.7</td>\n",
       "    </tr>\n",
       "    <tr>\n",
       "      <th>3</th>\n",
       "      <td>0.03237</td>\n",
       "      <td>0.0</td>\n",
       "      <td>2.18</td>\n",
       "      <td>0.0</td>\n",
       "      <td>0.458</td>\n",
       "      <td>6.998</td>\n",
       "      <td>45.8</td>\n",
       "      <td>6.0622</td>\n",
       "      <td>3.0</td>\n",
       "      <td>222.0</td>\n",
       "      <td>18.7</td>\n",
       "      <td>394.63</td>\n",
       "      <td>2.94</td>\n",
       "      <td>33.4</td>\n",
       "    </tr>\n",
       "    <tr>\n",
       "      <th>4</th>\n",
       "      <td>0.06905</td>\n",
       "      <td>0.0</td>\n",
       "      <td>2.18</td>\n",
       "      <td>0.0</td>\n",
       "      <td>0.458</td>\n",
       "      <td>7.147</td>\n",
       "      <td>54.2</td>\n",
       "      <td>6.0622</td>\n",
       "      <td>3.0</td>\n",
       "      <td>222.0</td>\n",
       "      <td>18.7</td>\n",
       "      <td>396.90</td>\n",
       "      <td>5.33</td>\n",
       "      <td>36.2</td>\n",
       "    </tr>\n",
       "  </tbody>\n",
       "</table>\n",
       "</div>"
      ],
      "text/plain": [
       "      CRIM    ZN  INDUS  CHAS    NOX     RM   AGE     DIS  RAD    TAX  \\\n",
       "0  0.00632  18.0   2.31   0.0  0.538  6.575  65.2  4.0900  1.0  296.0   \n",
       "1  0.02731   0.0   7.07   0.0  0.469  6.421  78.9  4.9671  2.0  242.0   \n",
       "2  0.02729   0.0   7.07   0.0  0.469  7.185  61.1  4.9671  2.0  242.0   \n",
       "3  0.03237   0.0   2.18   0.0  0.458  6.998  45.8  6.0622  3.0  222.0   \n",
       "4  0.06905   0.0   2.18   0.0  0.458  7.147  54.2  6.0622  3.0  222.0   \n",
       "\n",
       "   PTRATIO       B  LSTAT  target  \n",
       "0     15.3  396.90   4.98    24.0  \n",
       "1     17.8  396.90   9.14    21.6  \n",
       "2     17.8  392.83   4.03    34.7  \n",
       "3     18.7  394.63   2.94    33.4  \n",
       "4     18.7  396.90   5.33    36.2  "
      ]
     },
     "execution_count": 81,
     "metadata": {},
     "output_type": "execute_result"
    }
   ],
   "source": [
    "df = pd.DataFrame(data=data['data'], columns = data.feature_names)\n",
    "df['target']=data['target']\n",
    "df.head()"
   ]
  },
  {
   "cell_type": "code",
   "execution_count": 82,
   "metadata": {},
   "outputs": [],
   "source": [
    "df_train, df_test = train_test_split(df, test_size=0.2,random_state=0)\n",
    "X_train = df_train.drop(['target'], axis=1)\n",
    "y_train=df_train['target']\n",
    "df_test=df_test.sort_values('target').reset_index(drop=True)\n",
    "X_test = df_test.drop(['target'], axis=1)\n",
    "y_test=df_test['target']"
   ]
  },
  {
   "cell_type": "code",
   "execution_count": 83,
   "metadata": {},
   "outputs": [
    {
     "data": {
      "text/plain": [
       "array(['CRIM', 'ZN', 'INDUS', 'CHAS', 'NOX', 'RM', 'AGE', 'DIS', 'RAD',\n",
       "       'TAX', 'PTRATIO', 'B', 'LSTAT'], dtype='<U7')"
      ]
     },
     "execution_count": 83,
     "metadata": {},
     "output_type": "execute_result"
    }
   ],
   "source": [
    "data['feature_names']"
   ]
  },
  {
   "cell_type": "code",
   "execution_count": 84,
   "metadata": {},
   "outputs": [
    {
     "name": "stdout",
     "output_type": "stream",
     "text": [
      "Decision Tree train\n",
      "explained_variance:  0.8291\n",
      "r2:  0.8291\n",
      "MAE:  2.739\n",
      "MSE:  14.5504\n",
      "RMSE:  3.8145\n",
      "\n",
      "Decision Tree test\n",
      "explained_variance:  0.5937\n",
      "r2:  0.5897\n",
      "MAE:  3.5791\n",
      "MSE:  33.4113\n",
      "RMSE:  5.7802\n"
     ]
    }
   ],
   "source": [
    "base_dt = DecisionTreeRegressor(max_depth=3)\n",
    "base_dt.fit(X_train, y_train)\n",
    "regression_results(y_train, base_dt.predict(X_train),'Decision Tree train')\n",
    "print()\n",
    "regression_results(y_test, base_dt.predict(X_test),'Decision Tree test')"
   ]
  },
  {
   "cell_type": "code",
   "execution_count": 85,
   "metadata": {},
   "outputs": [
    {
     "data": {
      "text/plain": [
       "AdaBoostRegressor(base_estimator=DecisionTreeRegressor(criterion='mse', max_depth=3, max_features=None,\n",
       "           max_leaf_nodes=None, min_impurity_decrease=0.0,\n",
       "           min_impurity_split=None, min_samples_leaf=1,\n",
       "           min_samples_split=2, min_weight_fraction_leaf=0.0,\n",
       "           presort=False, random_state=None, splitter='best'),\n",
       "         learning_rate=0.01, loss='linear', n_estimators=200,\n",
       "         random_state=None)"
      ]
     },
     "execution_count": 85,
     "metadata": {},
     "output_type": "execute_result"
    }
   ],
   "source": [
    "base_dt = DecisionTreeRegressor(max_depth=3)\n",
    "\n",
    "adaboost = AdaBoostRegressor(base_estimator=base_dt,\n",
    "                                  n_estimators=200,\n",
    "                                  learning_rate=0.01)\n",
    "adaboost.fit(X_train, y_train)"
   ]
  },
  {
   "cell_type": "code",
   "execution_count": 86,
   "metadata": {},
   "outputs": [
    {
     "name": "stdout",
     "output_type": "stream",
     "text": [
      "AdaBoost with Decision Tree train\n",
      "explained_variance:  0.9024\n",
      "r2:  0.9023\n",
      "MAE:  2.2422\n",
      "MSE:  8.3154\n",
      "RMSE:  2.8836\n"
     ]
    }
   ],
   "source": [
    "regression_results(y_train, adaboost.predict(X_train),'AdaBoost with Decision Tree train')"
   ]
  },
  {
   "cell_type": "code",
   "execution_count": 87,
   "metadata": {
    "scrolled": true
   },
   "outputs": [
    {
     "name": "stdout",
     "output_type": "stream",
     "text": [
      "AdaBoost with Decision Tree test\n",
      "explained_variance:  0.6676\n",
      "r2:  0.6674\n",
      "MAE:  3.2243\n",
      "MSE:  27.0818\n",
      "RMSE:  5.204\n"
     ]
    }
   ],
   "source": [
    "regression_results(y_test, adaboost.predict(X_test),'AdaBoost with Decision Tree test')"
   ]
  },
  {
   "cell_type": "markdown",
   "metadata": {},
   "source": [
    "#### AdaBoost regressor with Linear regression as base model"
   ]
  },
  {
   "cell_type": "code",
   "execution_count": 88,
   "metadata": {},
   "outputs": [
    {
     "name": "stdout",
     "output_type": "stream",
     "text": [
      "LinearRegression train\n",
      "explained_variance:  0.773\n",
      "r2:  0.773\n",
      "MAE:  3.1032\n",
      "MSE:  19.3265\n",
      "RMSE:  4.3962\n",
      "\n",
      "LinearRegression test\n",
      "explained_variance:  0.5901\n",
      "r2:  0.5892\n",
      "MAE:  3.8429\n",
      "MSE:  33.449\n",
      "RMSE:  5.7835\n"
     ]
    }
   ],
   "source": [
    "from sklearn.linear_model import LinearRegression\n",
    "base_lr = LinearRegression()\n",
    "base_lr.fit(X_train, y_train)\n",
    "regression_results(y_train, base_lr.predict(X_train),'LinearRegression train')\n",
    "print()\n",
    "regression_results(y_test, base_lr.predict(X_test),'LinearRegression test')"
   ]
  },
  {
   "cell_type": "code",
   "execution_count": 89,
   "metadata": {},
   "outputs": [
    {
     "data": {
      "text/plain": [
       "AdaBoostRegressor(base_estimator=LinearRegression(copy_X=True, fit_intercept=True, n_jobs=None,\n",
       "         normalize=False),\n",
       "         learning_rate=0.01, loss='linear', n_estimators=200,\n",
       "         random_state=None)"
      ]
     },
     "execution_count": 89,
     "metadata": {},
     "output_type": "execute_result"
    }
   ],
   "source": [
    "adaboost = AdaBoostRegressor(base_estimator=base_lr,\n",
    "                                  n_estimators=200,\n",
    "                                  learning_rate=0.01)\n",
    "adaboost.fit(X_train, y_train)"
   ]
  },
  {
   "cell_type": "code",
   "execution_count": 90,
   "metadata": {},
   "outputs": [
    {
     "name": "stdout",
     "output_type": "stream",
     "text": [
      "AdaBoostRegressor train\n",
      "explained_variance:  0.7696\n",
      "r2:  0.7681\n",
      "MAE:  3.2928\n",
      "MSE:  19.7454\n",
      "RMSE:  4.4436\n"
     ]
    }
   ],
   "source": [
    "regression_results(y_train, adaboost.predict(X_train),'AdaBoostRegressor train')"
   ]
  },
  {
   "cell_type": "code",
   "execution_count": 91,
   "metadata": {
    "scrolled": true
   },
   "outputs": [
    {
     "name": "stdout",
     "output_type": "stream",
     "text": [
      "AdaBoostRegressor test\n",
      "explained_variance:  0.6089\n",
      "r2:  0.6083\n",
      "MAE:  4.0102\n",
      "MSE:  31.8976\n",
      "RMSE:  5.6478\n"
     ]
    }
   ],
   "source": [
    "regression_results(y_test, adaboost.predict(X_test),'AdaBoostRegressor test')"
   ]
  },
  {
   "cell_type": "markdown",
   "metadata": {},
   "source": [
    "### View AdaBoost best estimator and Compare to Base estimator\n",
    "##### Extract The collection of fitted sub-estimators"
   ]
  },
  {
   "cell_type": "code",
   "execution_count": 92,
   "metadata": {},
   "outputs": [
    {
     "data": {
      "text/plain": [
       "200"
      ]
     },
     "execution_count": 92,
     "metadata": {},
     "output_type": "execute_result"
    }
   ],
   "source": [
    "sub_estimators= adaboost.estimators_ \n",
    "len(sub_estimators)"
   ]
  },
  {
   "cell_type": "code",
   "execution_count": 93,
   "metadata": {
    "scrolled": true
   },
   "outputs": [
    {
     "data": {
      "image/png": "[encoded data removed]",
      "text/plain": [
       "<Figure size 1080x216 with 1 Axes>"
      ]
     },
     "metadata": {
      "needs_background": "light"
     },
     "output_type": "display_data"
    }
   ],
   "source": [
    "plt.figure(figsize=(15,3))\n",
    "test_rmse=np.zeros((200))\n",
    "for i,e in enumerate(sub_estimators):\n",
    "    test_rmse[i]=np.sqrt(metrics.mean_squared_error(y_test, e.predict(X_test)))\n",
    "plt.xlabel('Adaboost estimators')\n",
    "plt.ylabel('RMSE')\n",
    "plt.plot(test_rmse);\n",
    "plt.title('RMSE of The collection of fitted sub-estimators');"
   ]
  },
  {
   "cell_type": "markdown",
   "metadata": {},
   "source": [
    "##### Get the best estimator of the collection of fitted sub-estimators"
   ]
  },
  {
   "cell_type": "code",
   "execution_count": 94,
   "metadata": {},
   "outputs": [
    {
     "data": {
      "text/plain": [
       "(17, 5.486652714317901)"
      ]
     },
     "execution_count": 94,
     "metadata": {},
     "output_type": "execute_result"
    }
   ],
   "source": [
    "min_rmse_estimator = np.argmin(test_rmse)\n",
    "min_rmse_estimator, np.sqrt(metrics.mean_squared_error(y_test, \n",
    "                                                       sub_estimators[min_rmse_estimator].predict(X_test)))"
   ]
  },
  {
   "cell_type": "code",
   "execution_count": 95,
   "metadata": {},
   "outputs": [
    {
     "data": {
      "text/plain": [
       "(array([-9.60139617e-02,  3.88375751e-02,  2.57001395e-02,  5.08985356e+00,\n",
       "        -2.04159758e+01,  3.57239412e+00,  1.20029995e-02, -1.45347278e+00,\n",
       "         3.60998677e-01, -1.34394900e-02, -8.14371468e-01,  6.03394495e-03,\n",
       "        -6.93855112e-01]), 39.52103025628822)"
      ]
     },
     "execution_count": 95,
     "metadata": {},
     "output_type": "execute_result"
    }
   ],
   "source": [
    "min_lr_estimator = sub_estimators[min_rmse_estimator]\n",
    "min_lr_estimator.coef_ , min_lr_estimator.intercept_ "
   ]
  },
  {
   "cell_type": "code",
   "execution_count": 96,
   "metadata": {},
   "outputs": [
    {
     "data": {
      "text/plain": [
       "(array([-1.19443447e-01,  4.47799511e-02,  5.48526168e-03,  2.34080361e+00,\n",
       "        -1.61236043e+01,  3.70870901e+00, -3.12108178e-03, -1.38639737e+00,\n",
       "         2.44178327e-01, -1.09896366e-02, -1.04592119e+00,  8.11010693e-03,\n",
       "        -4.92792725e-01]), 38.09169492630278)"
      ]
     },
     "execution_count": 96,
     "metadata": {},
     "output_type": "execute_result"
    }
   ],
   "source": [
    "base_lr.coef_ , base_lr.intercept_ "
   ]
  },
  {
   "cell_type": "code",
   "execution_count": 97,
   "metadata": {},
   "outputs": [],
   "source": [
    "df_test['pred_base']=base_lr.predict(X_test)\n",
    "df_test['pred_best_ada']=min_lr_estimator.predict(X_test)\n",
    "df_train['pred_base']=base_lr.predict(X_train)\n",
    "df_train['pred_best_ada']=min_lr_estimator.predict(X_train)"
   ]
  },
  {
   "cell_type": "code",
   "execution_count": 98,
   "metadata": {},
   "outputs": [
    {
     "name": "stdout",
     "output_type": "stream",
     "text": [
      "Base Linear regression on test data:\n",
      "explained_variance:  0.5901\n",
      "r2:  0.5892\n",
      "MAE:  3.8429\n",
      "MSE:  33.449\n",
      "RMSE:  5.7835\n"
     ]
    }
   ],
   "source": [
    "regression_results(y_test, base_lr.predict(X_test),'Base Linear regression on test data:')"
   ]
  },
  {
   "cell_type": "code",
   "execution_count": 99,
   "metadata": {},
   "outputs": [
    {
     "name": "stdout",
     "output_type": "stream",
     "text": [
      "Best Linear regression on test data:\n",
      "explained_variance:  0.6318\n",
      "r2:  0.6303\n",
      "MAE:  3.9724\n",
      "MSE:  30.1034\n",
      "RMSE:  5.4867\n"
     ]
    }
   ],
   "source": [
    "regression_results(y_test, min_lr_estimator.predict(X_test),'Best Linear regression on test data:')"
   ]
  },
  {
   "cell_type": "code",
   "execution_count": 101,
   "metadata": {},
   "outputs": [
    {
     "data": {
      "image/png": "[encoded data removed]",
      "text/plain": [
       "<Figure size 1080x288 with 3 Axes>"
      ]
     },
     "metadata": {
      "needs_background": "light"
     },
     "output_type": "display_data"
    }
   ],
   "source": [
    "plt.figure(figsize=(15,4))\n",
    "\n",
    "plt.subplot(1, 3, 1)\n",
    "\n",
    "df_test.pred_base.plot()\n",
    "df_test.target.plot()\n",
    "plt.legend(['Base LR prediction', 'price']);\n",
    "plt.title('Base estimator prediction');\n",
    "\n",
    "plt.subplot(1, 3, 2)\n",
    "df_test.pred_best_ada.plot()\n",
    "df_test.target.plot()\n",
    "plt.legend(['Best LR prediction', 'price']);\n",
    "\n",
    "plt.title('Best estimator prediction');\n",
    "\n",
    "plt.subplot(1, 3, 3)\n",
    "df_test.pred_base.plot(alpha=0.8)\n",
    "df_test.pred_best_ada.plot(alpha=0.6)\n",
    "df_test.target.plot()\n",
    "plt.title('Compare predictions');\n",
    "plt.legend(['Base LR prediction', 'Best LR prediction', 'price']);"
   ]
  },
  {
   "cell_type": "markdown",
   "metadata": {},
   "source": [
    "## Scikit-learn Gradient boosting - Minimizing  loss function\n",
    "the _GradientBoostingClassifier_ classifier works only with decision trees. so the model hyperparameters are given directly to the _GradientBoostingClassifier_.\n",
    "\n",
    "* https://scikit-learn.org/stable/modules/generated/sklearn.ensemble.GradientBoostingRegressor.html\n",
    "* http://scikit-learn.org/stable/modules/generated/sklearn.ensemble.GradientBoostingClassifier.html \n"
   ]
  },
  {
   "cell_type": "markdown",
   "metadata": {},
   "source": [
    "\n",
    "\n",
    "> **NOTE:** The features are always randomly permuted at each split. Therefore, the best found split may vary, even with the same training data and max_features=n_features, if the improvement of the criterion is identical for several splits enumerated during the search of the best split. To obtain a deterministic behaviour during fitting, random_state has to be fixed.\n",
    "\n",
    "### Lets run boston regression with Gradient boosting"
   ]
  },
  {
   "cell_type": "code",
   "execution_count": 31,
   "metadata": {},
   "outputs": [
    {
     "name": "stdout",
     "output_type": "stream",
     "text": [
      "      Iter       Train Loss   Remaining Time \n",
      "         1          83.7389            0.20s\n",
      "         2          82.3620            0.25s\n",
      "         3          81.0126            0.26s\n",
      "         4          79.6898            0.24s\n",
      "         5          78.3931            0.23s\n",
      "         6          77.1220            0.21s\n",
      "         7          75.8760            0.22s\n",
      "         8          74.6545            0.21s\n",
      "         9          73.4572            0.21s\n",
      "        10          72.2833            0.21s\n",
      "        20          61.5180            0.15s\n",
      "        30          52.5704            0.13s\n",
      "        40          45.1687            0.12s\n",
      "        50          38.9493            0.11s\n",
      "        60          33.7540            0.10s\n",
      "        70          29.3597            0.10s\n",
      "        80          25.6254            0.09s\n",
      "        90          22.4616            0.08s\n",
      "       100          19.8130            0.07s\n",
      "       200           7.6619            0.00s\n"
     ]
    },
    {
     "data": {
      "text/plain": [
       "GradientBoostingRegressor(alpha=0.9, criterion='friedman_mse', init=None,\n",
       "             learning_rate=0.01, loss='ls', max_depth=3, max_features=None,\n",
       "             max_leaf_nodes=None, min_impurity_decrease=0.0,\n",
       "             min_impurity_split=None, min_samples_leaf=1,\n",
       "             min_samples_split=2, min_weight_fraction_leaf=0.0,\n",
       "             n_estimators=200, n_iter_no_change=None, presort='auto',\n",
       "             random_state=None, subsample=1.0, tol=0.0001,\n",
       "             validation_fraction=0.1, verbose=1, warm_start=False)"
      ]
     },
     "execution_count": 31,
     "metadata": {},
     "output_type": "execute_result"
    }
   ],
   "source": [
    "clf_GB = GradientBoostingRegressor(max_depth=3,\n",
    "                                    n_estimators=200,\n",
    "                                    learning_rate=0.01, verbose=1)\n",
    "clf_GB.fit(X_train, y_train)"
   ]
  },
  {
   "cell_type": "code",
   "execution_count": 32,
   "metadata": {},
   "outputs": [
    {
     "name": "stdout",
     "output_type": "stream",
     "text": [
      "GradientBoostingRegressor train\n",
      "explained_variance:  0.91\n",
      "r2:  0.91\n",
      "MAE:  2.1631\n",
      "MSE:  7.6619\n",
      "RMSE:  2.768\n",
      "\n",
      "GradientBoostingRegressor test\n",
      "explained_variance:  0.748\n",
      "r2:  0.748\n",
      "MAE:  3.133\n",
      "MSE:  20.5193\n",
      "RMSE:  4.5298\n"
     ]
    }
   ],
   "source": [
    "regression_results(y_train, clf_GB.predict(X_train),'GradientBoostingRegressor train')\n",
    "print()\n",
    "regression_results(y_test, clf_GB.predict(X_test),'GradientBoostingRegressor test')"
   ]
  },
  {
   "cell_type": "markdown",
   "metadata": {},
   "source": [
    "### Classification example with Gradient boosting"
   ]
  },
  {
   "cell_type": "code",
   "execution_count": 33,
   "metadata": {},
   "outputs": [],
   "source": [
    "data = datasets.load_digits()\n",
    "X = data['data']\n",
    "y = data['target']\n",
    "X_train, X_test, y_train, y_test = train_test_split(X,y, test_size=0.2,\n",
    "                                                        random_state=0)\n"
   ]
  },
  {
   "cell_type": "code",
   "execution_count": 34,
   "metadata": {},
   "outputs": [
    {
     "name": "stdout",
     "output_type": "stream",
     "text": [
      "      Iter       Train Loss   Remaining Time \n",
      "         1        3215.6313           10.27s\n",
      "         2        3129.8617            9.82s\n",
      "         3        3050.1777            9.35s\n",
      "         4        2975.8496            8.87s\n",
      "         5        2906.0649            8.94s\n",
      "         6        2840.5348            8.77s\n",
      "         7        2778.5467            8.93s\n",
      "         8        2719.7466            8.73s\n",
      "         9        2663.9756            8.54s\n",
      "        10        2610.4905            8.43s\n",
      "        20        2178.1802            7.65s\n",
      "        30        1861.2350            7.23s\n",
      "        40        1613.7877            6.70s\n",
      "        50        1415.8463            6.22s\n",
      "        60        1249.0973            5.82s\n",
      "        70        1107.8564            5.40s\n",
      "        80         987.0129            5.00s\n",
      "        90         882.8483            4.57s\n",
      "       100         791.2592            4.16s\n",
      "       200         283.9247            0.00s\n"
     ]
    },
    {
     "data": {
      "text/plain": [
       "GradientBoostingClassifier(criterion='friedman_mse', init=None,\n",
       "              learning_rate=0.01, loss='deviance', max_depth=3,\n",
       "              max_features=None, max_leaf_nodes=None,\n",
       "              min_impurity_decrease=0.0, min_impurity_split=None,\n",
       "              min_samples_leaf=1, min_samples_split=2,\n",
       "              min_weight_fraction_leaf=0.0, n_estimators=200,\n",
       "              n_iter_no_change=None, presort='auto', random_state=None,\n",
       "              subsample=1.0, tol=0.0001, validation_fraction=0.1,\n",
       "              verbose=1, warm_start=False)"
      ]
     },
     "execution_count": 34,
     "metadata": {},
     "output_type": "execute_result"
    }
   ],
   "source": [
    "clf_GB = GradientBoostingClassifier(max_depth=3,\n",
    "                                    n_estimators=200,\n",
    "                                    learning_rate=0.01, verbose=1)\n",
    "clf_GB.fit(X_train, y_train)"
   ]
  },
  {
   "cell_type": "code",
   "execution_count": 35,
   "metadata": {},
   "outputs": [
    {
     "name": "stdout",
     "output_type": "stream",
     "text": [
      "GradientBoostingClassifier train accuracy:  0.9861\n",
      "\n",
      "     0    1    2    3    4    5    6    7    8    9\n",
      "0  151    0    0    0    0    0    0    0    0    0\n",
      "1    0  146    0    1    0    0    0    0    0    0\n",
      "2    0    0  141    0    0    0    0    0    0    0\n",
      "3    0    1    0  149    0    2    0    1    1    0\n",
      "4    0    0    0    0  149    0    0    1    1    0\n",
      "5    0    0    0    0    0  141    0    0    0    1\n",
      "6    0    0    0    0    0    0  136    0    1    0\n",
      "7    0    0    0    1    0    0    0  137    0    2\n",
      "8    0    2    0    0    0    0    0    0  132    1\n",
      "9    0    0    0    1    0    0    0    1    2  135\n",
      "\n"
     ]
    }
   ],
   "source": [
    "classification_results(y_train, clf_GB.predict(X_train), name='GradientBoostingClassifier train', \n",
    "                       classes=data.target_names)"
   ]
  },
  {
   "cell_type": "code",
   "execution_count": 36,
   "metadata": {},
   "outputs": [
    {
     "name": "stdout",
     "output_type": "stream",
     "text": [
      "GradientBoostingClassifier test accuracy:  0.9333\n",
      "\n",
      "    0   1   2   3   4   5   6   7   8   9\n",
      "0  26   0   0   0   0   1   0   0   0   0\n",
      "1   0  32   0   1   0   0   0   0   0   2\n",
      "2   1   0  32   1   0   0   1   1   0   0\n",
      "3   0   0   0  28   0   0   0   0   0   1\n",
      "4   1   0   0   0  28   0   0   1   0   0\n",
      "5   0   1   0   0   0  38   0   0   0   1\n",
      "6   0   0   0   1   1   0  42   0   0   0\n",
      "7   0   0   0   0   1   0   0  38   0   0\n",
      "8   0   2   0   2   0   0   0   0  35   0\n",
      "9   1   0   0   1   0   1   0   0   1  37\n",
      "\n"
     ]
    }
   ],
   "source": [
    "classification_results(y_test, clf_GB.predict(X_test), name='GradientBoostingClassifier test', \n",
    "                       classes=data.target_names)"
   ]
  },
  {
   "cell_type": "markdown",
   "metadata": {},
   "source": [
    "## Learning Rate is importent"
   ]
  },
  {
   "cell_type": "code",
   "execution_count": 37,
   "metadata": {},
   "outputs": [
    {
     "data": {
      "image/png": "[encoded data removed]",
      "text/plain": [
       "<Figure size 432x288 with 1 Axes>"
      ]
     },
     "metadata": {
      "needs_background": "light"
     },
     "output_type": "display_data"
    }
   ],
   "source": [
    "original_params = {'n_estimators': 200, 'max_leaf_nodes': 3, \n",
    "                   'max_depth': 4, 'random_state': 2,\n",
    "                   'min_samples_split': 5}\n",
    "\n",
    "plt.figure()\n",
    "lr=0.01\n",
    "\n",
    "for label, color, setting in [('learning_rate=0.01',\n",
    "                               'blue',\n",
    "                               {'learning_rate': 0.01}),\n",
    "                              ('learning_rate=0.05', \n",
    "                               'turquoise',\n",
    "                               {'learning_rate': 0.05}), \n",
    "                              ('learning_rate=0.1',\n",
    "                               'magenta',\n",
    "                               {'learning_rate': 0.1})]:\n",
    "    params = dict(original_params)\n",
    "    params.update(setting)\n",
    "\n",
    "    clf = GradientBoostingClassifier(**params)\n",
    "    clf.fit(X_train, y_train)\n",
    "\n",
    "    # compute test set deviance\n",
    "    test_deviance = np.zeros((params['n_estimators'],), dtype=np.float64)\n",
    "\n",
    "    for i, y_pred in enumerate(clf.staged_decision_function(X_test)):\n",
    "        # clf.loss_ assumes that y_test[i] in {0, 1}\n",
    "        test_deviance[i] = clf.loss_(y_test, y_pred)\n",
    "\n",
    "    plt.plot((np.arange(test_deviance.shape[0]) + 1)[::2], \n",
    "             test_deviance[::2],\n",
    "            '-', color=color, label=label)\n",
    "\n",
    "plt.legend(loc='upper left')\n",
    "plt.xlabel('Boosting Iterations')\n",
    "plt.ylabel('Test Set Loss- Deviance')\n",
    "\n",
    "plt.show()"
   ]
  },
  {
   "cell_type": "code",
   "execution_count": 38,
   "metadata": {},
   "outputs": [
    {
     "name": "stdout",
     "output_type": "stream",
     "text": [
      "      Iter       Train Loss      OOB Improve   Remaining Time \n",
      "         1        1139.7746         417.7321           12.73s\n",
      "         2         930.3062         206.0117           11.93s\n",
      "         3         766.6696         138.9439           11.27s\n",
      "         4         660.8273         104.8762           11.47s\n",
      "         5         562.5811          86.0373           11.55s\n",
      "         6         496.5491          73.0501           11.31s\n",
      "         7         417.7942          57.3630           10.98s\n",
      "         8         363.1556          43.9408           10.79s\n",
      "         9         314.5323          41.6581           10.74s\n",
      "        10         278.9602          32.0214           10.57s\n",
      "        20          85.9528           6.9753            9.45s\n",
      "        30          35.4063           1.5429            8.85s\n",
      "        40          14.8247           0.6279            8.16s\n",
      "        50           6.9913           0.1675            7.58s\n",
      "        60           3.7519           0.0456            7.01s\n",
      "        70           1.8836           0.0493            6.46s\n",
      "        80           1.1657           0.0178            5.88s\n",
      "        90           0.5956           0.0159            5.28s\n",
      "       100           0.3631           0.0011            4.60s\n",
      "       200           0.2325          -0.0002            0.00s\n"
     ]
    },
    {
     "data": {
      "text/plain": [
       "GradientBoostingClassifier(criterion='friedman_mse', init=None,\n",
       "              learning_rate=0.1, loss='deviance', max_depth=4,\n",
       "              max_features=None, max_leaf_nodes=None,\n",
       "              min_impurity_decrease=0.0, min_impurity_split=None,\n",
       "              min_samples_leaf=1, min_samples_split=2,\n",
       "              min_weight_fraction_leaf=0.0, n_estimators=200,\n",
       "              n_iter_no_change=None, presort='auto', random_state=None,\n",
       "              subsample=0.5, tol=0.0001, validation_fraction=0.1,\n",
       "              verbose=1, warm_start=False)"
      ]
     },
     "execution_count": 38,
     "metadata": {},
     "output_type": "execute_result"
    }
   ],
   "source": [
    "clf_GB = GradientBoostingClassifier(max_depth=4,\n",
    "                                    n_estimators=200,\n",
    "                                    learning_rate=0.1, \n",
    "                                    subsample=0.5,verbose=1)\n",
    "clf_GB.fit(X_train, y_train)"
   ]
  },
  {
   "cell_type": "code",
   "execution_count": 39,
   "metadata": {},
   "outputs": [
    {
     "name": "stdout",
     "output_type": "stream",
     "text": [
      "GradientBoostingClassifier train accuracy:  1.0\n",
      "\n",
      "     0    1    2    3    4    5    6    7    8    9\n",
      "0  151    0    0    0    0    0    0    0    0    0\n",
      "1    0  147    0    0    0    0    0    0    0    0\n",
      "2    0    0  141    0    0    0    0    0    0    0\n",
      "3    0    0    0  154    0    0    0    0    0    0\n",
      "4    0    0    0    0  151    0    0    0    0    0\n",
      "5    0    0    0    0    0  142    0    0    0    0\n",
      "6    0    0    0    0    0    0  137    0    0    0\n",
      "7    0    0    0    0    0    0    0  140    0    0\n",
      "8    0    0    0    0    0    0    0    0  135    0\n",
      "9    0    0    0    0    0    0    0    0    0  139\n",
      "\n",
      "GradientBoostingClassifier test accuracy:  0.9667\n",
      "\n",
      "    0   1   2   3   4   5   6   7   8   9\n",
      "0  27   0   0   0   0   0   0   0   0   0\n",
      "1   0  34   0   0   1   0   0   0   0   0\n",
      "2   1   0  35   0   0   0   0   0   0   0\n",
      "3   0   0   1  28   0   0   0   0   0   0\n",
      "4   0   0   0   0  29   0   0   1   0   0\n",
      "5   0   1   0   0   0  38   0   0   0   1\n",
      "6   0   1   0   0   0   0  42   0   1   0\n",
      "7   0   0   0   0   0   0   0  39   0   0\n",
      "8   0   1   0   1   0   0   0   0  37   0\n",
      "9   1   0   0   0   0   1   0   0   0  39\n",
      "\n"
     ]
    }
   ],
   "source": [
    "classification_results(y_train, clf_GB.predict(X_train), name='GradientBoostingClassifier train', \n",
    "                       classes=data.target_names)\n",
    "classification_results(y_test, clf_GB.predict(X_test), name='GradientBoostingClassifier test', \n",
    "                       classes=data.target_names)"
   ]
  },
  {
   "cell_type": "markdown",
   "metadata": {},
   "source": [
    "# XGBoost\n",
    "to install on windows: \n",
    "`conda install -c anaconda py-xgboost ` \n",
    "\n",
    "Example's of regression and classification:\n",
    "* https://www.kaggle.com/stuarthallows/using-xgboost-with-scikit-learn"
   ]
  },
  {
   "cell_type": "code",
   "execution_count": 40,
   "metadata": {},
   "outputs": [],
   "source": [
    "data = datasets.load_digits()\n",
    "X = data['data']\n",
    "y = data['target']\n",
    "X_train, X_test, y_train, y_test = train_test_split(X,y, test_size=0.2,\n",
    "                                                        random_state=0)\n"
   ]
  },
  {
   "cell_type": "code",
   "execution_count": 41,
   "metadata": {},
   "outputs": [
    {
     "data": {
      "text/plain": [
       "((1437, 64), (1437,), (360, 64), (360,))"
      ]
     },
     "execution_count": 41,
     "metadata": {},
     "output_type": "execute_result"
    }
   ],
   "source": [
    "X_train.shape, y_train.shape, X_test.shape, y_test.shape"
   ]
  },
  {
   "cell_type": "code",
   "execution_count": 42,
   "metadata": {},
   "outputs": [
    {
     "data": {
      "text/plain": [
       "XGBClassifier(base_score=0.5, booster='gbtree', colsample_bylevel=1,\n",
       "       colsample_bytree=1, gamma=0, learning_rate=0.1, max_delta_step=0,\n",
       "       max_depth=4, min_child_weight=1, missing=None, n_estimators=200,\n",
       "       n_jobs=1, nthread=None, objective='multi:softprob', random_state=0,\n",
       "       reg_alpha=0, reg_lambda=1, scale_pos_weight=1, seed=None,\n",
       "       silent=True, subsample=0.5, verbose=1)"
      ]
     },
     "execution_count": 42,
     "metadata": {},
     "output_type": "execute_result"
    }
   ],
   "source": [
    "import xgboost as xgb\n",
    "\n",
    "xgb_model = xgb.XGBClassifier(max_depth=4,\n",
    "                                    n_estimators=200,\n",
    "                                    learning_rate=0.1, \n",
    "                                    subsample=0.5,verbose=1)\n",
    "\n",
    "\n",
    "xgb_model.fit(X_train, y_train, verbose=1)"
   ]
  },
  {
   "cell_type": "code",
   "execution_count": 43,
   "metadata": {},
   "outputs": [
    {
     "name": "stdout",
     "output_type": "stream",
     "text": [
      "XGBClassifier train accuracy:  1.0\n",
      "\n",
      "     0    1    2    3    4    5    6    7    8    9\n",
      "0  151    0    0    0    0    0    0    0    0    0\n",
      "1    0  147    0    0    0    0    0    0    0    0\n",
      "2    0    0  141    0    0    0    0    0    0    0\n",
      "3    0    0    0  154    0    0    0    0    0    0\n",
      "4    0    0    0    0  151    0    0    0    0    0\n",
      "5    0    0    0    0    0  142    0    0    0    0\n",
      "6    0    0    0    0    0    0  137    0    0    0\n",
      "7    0    0    0    0    0    0    0  140    0    0\n",
      "8    0    0    0    0    0    0    0    0  135    0\n",
      "9    0    0    0    0    0    0    0    0    0  139\n",
      "\n",
      "XGBClassifier test accuracy:  0.9667\n",
      "\n",
      "    0   1   2   3   4   5   6   7   8   9\n",
      "0  27   0   0   0   0   0   0   0   0   0\n",
      "1   0  33   0   0   1   0   0   0   0   1\n",
      "2   1   0  35   0   0   0   0   0   0   0\n",
      "3   0   0   0  29   0   0   0   0   0   0\n",
      "4   0   0   0   0  29   0   0   1   0   0\n",
      "5   0   0   0   0   0  38   0   0   0   2\n",
      "6   0   1   0   0   0   0  43   0   0   0\n",
      "7   0   0   0   0   0   0   0  39   0   0\n",
      "8   0   1   0   1   0   0   0   0  37   0\n",
      "9   1   0   0   1   0   1   0   0   0  38\n",
      "\n"
     ]
    }
   ],
   "source": [
    "classification_results(y_train, xgb_model.predict(X_train), name='XGBClassifier train', \n",
    "                       classes=data.target_names)\n",
    "classification_results(y_test, xgb_model.predict(X_test), name='XGBClassifier test', \n",
    "                       classes=data.target_names)"
   ]
  },
  {
   "cell_type": "code",
   "execution_count": null,
   "metadata": {},
   "outputs": [],
   "source": []
  }
 ],
 "metadata": {
  "anaconda-cloud": {},
  "kernelspec": {
   "display_name": "Python 3",
   "language": "python",
   "name": "python3"
  },
  "language_info": {
   "codemirror_mode": {
    "name": "ipython",
    "version": 3
   },
   "file_extension": ".py",
   "mimetype": "text/x-python",
   "name": "python",
   "nbconvert_exporter": "python",
   "pygments_lexer": "ipython3",
   "version": "3.6.6"
  }
 },
 "nbformat": 4,
 "nbformat_minor": 2
}
