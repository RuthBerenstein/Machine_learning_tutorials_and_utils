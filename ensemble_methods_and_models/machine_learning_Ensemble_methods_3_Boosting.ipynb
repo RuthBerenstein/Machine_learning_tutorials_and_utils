{
 "cells": [
  {
   "cell_type": "markdown",
   "metadata": {},
   "source": [
    "# Ensemble Models \n",
    "## 3. Advanced ensemble models - Boosting "
   ]
  },
  {
   "cell_type": "code",
   "execution_count": 128,
   "metadata": {},
   "outputs": [],
   "source": [
    "from pandas import read_csv\n",
    "from sklearn.linear_model import LogisticRegression\n",
    "from sklearn.tree import DecisionTreeClassifier, DecisionTreeRegressor\n",
    "from sklearn.svm import SVC\n",
    "from sklearn.ensemble import VotingClassifier, BaggingClassifier, \\\n",
    "    AdaBoostClassifier, GradientBoostingClassifier, AdaBoostRegressor, GradientBoostingRegressor\n",
    "from sklearn.model_selection import train_test_split\n",
    "import numpy as np\n",
    "import matplotlib.pyplot as plt\n",
    "import pandas as pd\n",
    "%matplotlib inline\n",
    "from sklearn.metrics import confusion_matrix, classification_report\n",
    "from sklearn.metrics import accuracy_score\n",
    "from sklearn.utils import shuffle\n",
    "import warnings\n",
    "warnings.filterwarnings('ignore')\n",
    "%matplotlib inline"
   ]
  },
  {
   "cell_type": "code",
   "execution_count": 129,
   "metadata": {},
   "outputs": [],
   "source": [
    "def classification_results(y, y_pred, name='', classes=['no', 'yes'], add_rep=False):\n",
    "    acc = accuracy_score(y, y_pred)\n",
    "                        \n",
    "    cm = pd.DataFrame(confusion_matrix(y, y_pred), \n",
    "                      index=classes, \n",
    "                      columns=classes)\n",
    "\n",
    "    print(name + ' accuracy: ', round(acc,4))\n",
    "    print()\n",
    "    print(cm)\n",
    "    print()\n",
    "    if (add_rep):\n",
    "        print(name + ' Classification report: ')\n",
    "        print(classification_report(y, y_pred))\n"
   ]
  },
  {
   "cell_type": "code",
   "execution_count": 130,
   "metadata": {},
   "outputs": [],
   "source": [
    "import sklearn.metrics as metrics\n",
    "def regression_results(y_true, y_pred, name=''):\n",
    "    \n",
    "    # Regression metrics\n",
    "    explained_variance=metrics.explained_variance_score(y_true, y_pred)\n",
    "    mean_absolute_error=metrics.mean_absolute_error(y_true, y_pred) \n",
    "    mse=metrics.mean_squared_error(y_true, y_pred) \n",
    "    median_absolute_error=metrics.median_absolute_error(y_true, y_pred)\n",
    "    r2=metrics.r2_score(y_true, y_pred)\n",
    "\n",
    "    print(name )\n",
    "    print('explained_variance: ', round(explained_variance,4))    \n",
    "    print('r2: ', round(r2,4))\n",
    "    print('MAE: ', round(mean_absolute_error,4))\n",
    "    print('MSE: ', round(mse,4))\n",
    "    print('RMSE: ', round(np.sqrt(mse),4))"
   ]
  },
  {
   "cell_type": "markdown",
   "metadata": {},
   "source": [
    "# Introduction\n",
    "\n",
    "Ensemble models, combine the predictions of multiple models, to improve the overall performance. \n",
    "\n",
    "## Simple ensemble Methods\n",
    "\n",
    "Simple ensemble learning methods use a group of existing models, and combine their predictions by voting or avareging. Advanced ensemble models, create a group of models on the given train data set, then combined their predictions in one of simple ensemble methods.\n",
    "\n",
    "\n",
    "Recommended reading:\n",
    "* https://towardsdatascience.com/simple-guide-for-ensemble-learning-methods-d87cc68705a2\n",
    "* https://towardsdatascience.com/holy-grail-for-bias-variance-tradeoff-overfitting-underfitting-7fad64ab5d76\n"
   ]
  },
  {
   "cell_type": "markdown",
   "metadata": {},
   "source": [
    "## Advanced ensemble methods\n",
    "\n",
    "## Boosting\n",
    "Boosting is an **iterative technique**, meaning we promote step by step, hopefully to to a better solution.  In each step, we build a model, that is based on a feedback of the previous model.\n",
    "\n",
    "Boosting algorithms, show good predictive accuracy, the best from the models we saw so far. But with it comes high variance and the tendency to overfit.\n",
    "\n",
    "### AdaBoost\n",
    "\n",
    "AdaBoost method, fit a sequence of base models on repeatedly modified versions of the data. At each boosting iteration the samples that were misclassified in the previous iteration are given higher weights, while the correctly-classified samples are given lower weights.\n",
    "\n",
    "\n",
    "It worth noting that since AdaBoost inherently follows problematic samples, it is relatively sensitive to noisy data and outliers.\n",
    "\n",
    "### Gradient descent\n",
    "Gradient descent is a known boosting method, that aims to diminish a given loss function iterativly. In Gradient descent, we step \"down\" the the loss function in the direction of the derivative. \n",
    "\n",
    "### Gradient Boosting \n",
    "\n",
    "Boosting technique, with decision tree as base model, and Gradient decent as boosting method.\n",
    "\n",
    "Gradient Boosting builds an additive model in a forward stage-wise fashion; it allows for the optimization of arbitrary differentiable loss functions. \n",
    "\n",
    "* https://scikit-learn.org/stable/modules/generated/sklearn.ensemble.GradientBoostingClassifier.html\n",
    "\n",
    "\n",
    "### XGBoost\n",
    "XGBoost stands for eXtreme Gradient Boosting.\n",
    "It is improved version of the Gradient Boosting. Few of the improvments are:\n",
    "* Xgboost does regularization of the tree as well to avoid overfitting.\n",
    "* Xgboost deals with the missing values efficiently.\n",
    "* Xgboost uses optimization techniques to yield superior results using less computing resources in the shortest amount of time.\n",
    "\n",
    "Following link to learn xgboost:\n",
    "* https://www.youtube.com/watch?v=Vly8xGnNiWs"
   ]
  },
  {
   "cell_type": "markdown",
   "metadata": {},
   "source": [
    "## Scikit-learn AdaBoost\n",
    "\n",
    "Scikit-learn AdaBoost class implements the AdaBoost method. The main arguments are:\n",
    "* base_estimator - the weak learner used.\n",
    "* n_estimators- the maximum number of iterations\n",
    "* learning_rate - The 'size' of the correction in each iterative step, or the amount of impact of the former classifiers on the boosting process.\n",
    "\n",
    "\n",
    "> AdaBoost relatively sensitive to noisy data and outliers,since it tries to improve performance by iteratively clinging to the mis-classified samples.\n",
    "\n",
    "#### AdaBoost example with digits dataset"
   ]
  },
  {
   "cell_type": "code",
   "execution_count": 131,
   "metadata": {
    "scrolled": true
   },
   "outputs": [
    {
     "data": {
      "text/plain": [
       "AdaBoostClassifier(algorithm='SAMME.R',\n",
       "          base_estimator=DecisionTreeClassifier(class_weight=None, criterion='gini', max_depth=3,\n",
       "            max_features=None, max_leaf_nodes=None,\n",
       "            min_impurity_decrease=0.0, min_impurity_split=None,\n",
       "            min_samples_leaf=1, min_samples_split=2,\n",
       "            min_weight_fraction_leaf=0.0, presort=False, random_state=None,\n",
       "            splitter='best'),\n",
       "          learning_rate=0.01, n_estimators=200, random_state=None)"
      ]
     },
     "execution_count": 131,
     "metadata": {},
     "output_type": "execute_result"
    }
   ],
   "source": [
    "from sklearn import datasets\n",
    "\n",
    "data = datasets.load_digits()\n",
    "X = data['data']\n",
    "y = data['target']\n",
    "X_train, X_test, y_train, y_test = train_test_split(X,y, test_size=0.2,\n",
    "                                                        random_state=0)\n",
    "\n",
    "clf_base = DecisionTreeClassifier(max_depth=3)\n",
    "\n",
    "clf_adaboost = AdaBoostClassifier(base_estimator=clf_base,\n",
    "                                  n_estimators=200,\n",
    "                                  learning_rate=0.01)\n",
    "clf_adaboost.fit(X_train, y_train)"
   ]
  },
  {
   "cell_type": "code",
   "execution_count": 132,
   "metadata": {},
   "outputs": [
    {
     "name": "stdout",
     "output_type": "stream",
     "text": [
      "AdaBoost train accuracy:  0.936\n",
      "\n",
      "     0    1    2    3    4    5    6    7    8    9\n",
      "0  151    0    0    0    0    0    0    0    0    0\n",
      "1    0  103    0    1    0    0    0    0   33   10\n",
      "2    0    0  128    3    0    0    0    0    9    1\n",
      "3    0    0    0  129    0    1    0    1    4   19\n",
      "4    0    0    0    0  148    0    3    0    0    0\n",
      "5    0    0    0    0    0  141    0    0    0    1\n",
      "6    0    0    0    0    0    0  136    0    1    0\n",
      "7    0    0    0    0    0    0    0  136    4    0\n",
      "8    0    0    0    0    0    0    0    0  135    0\n",
      "9    0    0    0    0    0    0    0    1    0  138\n",
      "\n",
      "AdaBoost train Classification report: \n",
      "              precision    recall  f1-score   support\n",
      "\n",
      "           0       1.00      1.00      1.00       151\n",
      "           1       1.00      0.70      0.82       147\n",
      "           2       1.00      0.91      0.95       141\n",
      "           3       0.97      0.84      0.90       154\n",
      "           4       1.00      0.98      0.99       151\n",
      "           5       0.99      0.99      0.99       142\n",
      "           6       0.98      0.99      0.99       137\n",
      "           7       0.99      0.97      0.98       140\n",
      "           8       0.73      1.00      0.84       135\n",
      "           9       0.82      0.99      0.90       139\n",
      "\n",
      "   micro avg       0.94      0.94      0.94      1437\n",
      "   macro avg       0.95      0.94      0.94      1437\n",
      "weighted avg       0.95      0.94      0.94      1437\n",
      "\n"
     ]
    }
   ],
   "source": [
    "classification_results(y_train, clf_adaboost.predict(X_train), name='AdaBoost train', \n",
    "                       classes=data.target_names, add_rep=True)"
   ]
  },
  {
   "cell_type": "code",
   "execution_count": 133,
   "metadata": {},
   "outputs": [
    {
     "name": "stdout",
     "output_type": "stream",
     "text": [
      "AdaBoost test accuracy:  0.8917\n",
      "\n",
      "    0   1   2   3   4   5   6   7   8   9\n",
      "0  25   0   0   1   0   1   0   0   0   0\n",
      "1   0  25   0   1   0   0   0   0   6   3\n",
      "2   0   1  25   5   0   0   0   0   5   0\n",
      "3   0   0   0  26   0   0   0   0   1   2\n",
      "4   0   1   0   0  29   0   0   0   0   0\n",
      "5   0   0   0   0   1  36   0   0   0   3\n",
      "6   0   0   0   1   0   0  42   0   1   0\n",
      "7   0   0   0   0   0   0   0  38   1   0\n",
      "8   0   1   0   1   0   0   0   0  37   0\n",
      "9   0   0   0   2   0   1   0   0   0  38\n",
      "\n",
      "AdaBoost test Classification report: \n",
      "              precision    recall  f1-score   support\n",
      "\n",
      "           0       1.00      0.93      0.96        27\n",
      "           1       0.89      0.71      0.79        35\n",
      "           2       1.00      0.69      0.82        36\n",
      "           3       0.70      0.90      0.79        29\n",
      "           4       0.97      0.97      0.97        30\n",
      "           5       0.95      0.90      0.92        40\n",
      "           6       1.00      0.95      0.98        44\n",
      "           7       1.00      0.97      0.99        39\n",
      "           8       0.73      0.95      0.82        39\n",
      "           9       0.83      0.93      0.87        41\n",
      "\n",
      "   micro avg       0.89      0.89      0.89       360\n",
      "   macro avg       0.91      0.89      0.89       360\n",
      "weighted avg       0.91      0.89      0.89       360\n",
      "\n"
     ]
    }
   ],
   "source": [
    "classification_results(y_test, clf_adaboost.predict(X_test), name='AdaBoost test', \n",
    "                       classes=data.target_names, add_rep=True)"
   ]
  },
  {
   "cell_type": "code",
   "execution_count": 134,
   "metadata": {},
   "outputs": [
    {
     "data": {
      "text/plain": [
       "AdaBoostClassifier(algorithm='SAMME.R',\n",
       "          base_estimator=LogisticRegression(C=1.0, class_weight=None, dual=False, fit_intercept=True,\n",
       "          intercept_scaling=1, max_iter=100, multi_class='warn',\n",
       "          n_jobs=None, penalty='l2', random_state=None, solver='warn',\n",
       "          tol=0.0001, verbose=0, warm_start=False),\n",
       "          learning_rate=0.01, n_estimators=200, random_state=None)"
      ]
     },
     "execution_count": 134,
     "metadata": {},
     "output_type": "execute_result"
    }
   ],
   "source": [
    "clf_base = LogisticRegression()\n",
    "\n",
    "clf_adaboost = AdaBoostClassifier(base_estimator=clf_base,\n",
    "                                  n_estimators=200,\n",
    "                                  learning_rate=0.01)\n",
    "clf_adaboost.fit(X_train, y_train)"
   ]
  },
  {
   "cell_type": "code",
   "execution_count": 135,
   "metadata": {},
   "outputs": [
    {
     "name": "stdout",
     "output_type": "stream",
     "text": [
      "AdaBoost train accuracy:  0.9763\n",
      "\n",
      "     0    1    2    3    4    5    6    7    8    9\n",
      "0  151    0    0    0    0    0    0    0    0    0\n",
      "1    0  139    1    0    1    0    0    0    4    2\n",
      "2    0    1  140    0    0    0    0    0    0    0\n",
      "3    0    0    0  151    0    0    0    0    2    1\n",
      "4    0    1    0    0  147    0    0    0    3    0\n",
      "5    0    0    0    0    0  138    1    0    0    3\n",
      "6    0    2    0    0    1    0  133    0    1    0\n",
      "7    0    0    0    0    0    0    0  138    1    1\n",
      "8    0    3    0    0    0    0    0    0  132    0\n",
      "9    0    0    0    1    0    1    0    0    3  134\n",
      "\n"
     ]
    }
   ],
   "source": [
    "classification_results(y_train, clf_adaboost.predict(X_train), name='AdaBoost train', \n",
    "                       classes=data.target_names)"
   ]
  },
  {
   "cell_type": "code",
   "execution_count": 136,
   "metadata": {},
   "outputs": [
    {
     "name": "stdout",
     "output_type": "stream",
     "text": [
      "AdaBoost test accuracy:  0.9611\n",
      "\n",
      "    0   1   2   3   4   5   6   7   8   9\n",
      "0  27   0   0   0   0   0   0   0   0   0\n",
      "1   0  31   0   0   0   0   1   0   1   2\n",
      "2   0   0  34   0   0   0   0   1   1   0\n",
      "3   0   0   0  29   0   0   0   0   0   0\n",
      "4   0   0   0   0  29   0   0   1   0   0\n",
      "5   0   0   0   0   0  39   0   0   0   1\n",
      "6   0   1   0   0   0   0  43   0   0   0\n",
      "7   0   0   0   0   2   0   0  37   0   0\n",
      "8   0   1   1   0   0   0   0   0  37   0\n",
      "9   0   0   0   0   0   1   0   0   0  40\n",
      "\n"
     ]
    }
   ],
   "source": [
    "classification_results(y_test, clf_adaboost.predict(X_test), name='AdaBoost test', \n",
    "                       classes=data.target_names)"
   ]
  },
  {
   "cell_type": "markdown",
   "metadata": {},
   "source": [
    "### AdaBoost regression example with Boston data\n",
    "In the following example, we compare Decision tree regressor to AdaBoost regressor that is based on this decision tree."
   ]
  },
  {
   "cell_type": "code",
   "execution_count": 137,
   "metadata": {},
   "outputs": [],
   "source": [
    "data = datasets.load_boston()\n",
    "X = data['data']\n",
    "y = data['target']\n",
    "X_train, X_test, y_train, y_test = train_test_split(X,y, test_size=0.2,\n",
    "                                                        random_state=0)"
   ]
  },
  {
   "cell_type": "code",
   "execution_count": 138,
   "metadata": {},
   "outputs": [
    {
     "name": "stdout",
     "output_type": "stream",
     "text": [
      "Decision Tree train\n",
      "explained_variance:  0.8291\n",
      "r2:  0.8291\n",
      "MAE:  2.739\n",
      "MSE:  14.5504\n",
      "RMSE:  3.8145\n",
      "\n",
      "Decision Tree test\n",
      "explained_variance:  0.5937\n",
      "r2:  0.5897\n",
      "MAE:  3.5791\n",
      "MSE:  33.4113\n",
      "RMSE:  5.7802\n"
     ]
    }
   ],
   "source": [
    "base_dt = DecisionTreeRegressor(max_depth=3)\n",
    "base_dt.fit(X_train, y_train)\n",
    "regression_results(y_train, base_dt.predict(X_train),'Decision Tree train')\n",
    "print()\n",
    "regression_results(y_test, base_dt.predict(X_test),'Decision Tree test')"
   ]
  },
  {
   "cell_type": "code",
   "execution_count": 139,
   "metadata": {},
   "outputs": [
    {
     "data": {
      "text/plain": [
       "AdaBoostRegressor(base_estimator=DecisionTreeRegressor(criterion='mse', max_depth=3, max_features=None,\n",
       "           max_leaf_nodes=None, min_impurity_decrease=0.0,\n",
       "           min_impurity_split=None, min_samples_leaf=1,\n",
       "           min_samples_split=2, min_weight_fraction_leaf=0.0,\n",
       "           presort=False, random_state=None, splitter='best'),\n",
       "         learning_rate=0.01, loss='linear', n_estimators=200,\n",
       "         random_state=None)"
      ]
     },
     "execution_count": 139,
     "metadata": {},
     "output_type": "execute_result"
    }
   ],
   "source": [
    "base_dt = DecisionTreeRegressor(max_depth=3)\n",
    "\n",
    "adaboost = AdaBoostRegressor(base_estimator=base_dt,\n",
    "                                  n_estimators=200,\n",
    "                                  learning_rate=0.01)\n",
    "adaboost.fit(X_train, y_train)"
   ]
  },
  {
   "cell_type": "code",
   "execution_count": 140,
   "metadata": {},
   "outputs": [
    {
     "name": "stdout",
     "output_type": "stream",
     "text": [
      "AdaBoost with Decision Tree train\n",
      "explained_variance:  0.9017\n",
      "r2:  0.9016\n",
      "MAE:  2.2495\n",
      "MSE:  8.3792\n",
      "RMSE:  2.8947\n"
     ]
    }
   ],
   "source": [
    "regression_results(y_train, adaboost.predict(X_train),'AdaBoost with Decision Tree train')"
   ]
  },
  {
   "cell_type": "code",
   "execution_count": 141,
   "metadata": {
    "scrolled": true
   },
   "outputs": [
    {
     "name": "stdout",
     "output_type": "stream",
     "text": [
      "AdaBoost with Decision Tree test\n",
      "explained_variance:  0.676\n",
      "r2:  0.6758\n",
      "MAE:  3.2333\n",
      "MSE:  26.3965\n",
      "RMSE:  5.1378\n"
     ]
    }
   ],
   "source": [
    "regression_results(y_test, adaboost.predict(X_test),'AdaBoost with Decision Tree test')"
   ]
  },
  {
   "cell_type": "markdown",
   "metadata": {},
   "source": [
    "#### AdaBoost regressor with Linear regression as base model"
   ]
  },
  {
   "cell_type": "code",
   "execution_count": 142,
   "metadata": {},
   "outputs": [
    {
     "name": "stdout",
     "output_type": "stream",
     "text": [
      "LinearRegression train\n",
      "explained_variance:  0.773\n",
      "r2:  0.773\n",
      "MAE:  3.1032\n",
      "MSE:  19.3265\n",
      "RMSE:  4.3962\n",
      "\n",
      "LinearRegression test\n",
      "explained_variance:  0.5901\n",
      "r2:  0.5892\n",
      "MAE:  3.8429\n",
      "MSE:  33.449\n",
      "RMSE:  5.7835\n"
     ]
    }
   ],
   "source": [
    "from sklearn.linear_model import LinearRegression\n",
    "base_lr = LinearRegression()\n",
    "base_lr.fit(X_train, y_train)\n",
    "regression_results(y_train, base_lr.predict(X_train),'LinearRegression train')\n",
    "print()\n",
    "regression_results(y_test, base_lr.predict(X_test),'LinearRegression test')"
   ]
  },
  {
   "cell_type": "code",
   "execution_count": 143,
   "metadata": {},
   "outputs": [
    {
     "data": {
      "text/plain": [
       "AdaBoostRegressor(base_estimator=LinearRegression(copy_X=True, fit_intercept=True, n_jobs=None,\n",
       "         normalize=False),\n",
       "         learning_rate=0.01, loss='linear', n_estimators=200,\n",
       "         random_state=None)"
      ]
     },
     "execution_count": 143,
     "metadata": {},
     "output_type": "execute_result"
    }
   ],
   "source": [
    "adaboost = AdaBoostRegressor(base_estimator=base_lr,\n",
    "                                  n_estimators=200,\n",
    "                                  learning_rate=0.01)\n",
    "adaboost.fit(X_train, y_train)"
   ]
  },
  {
   "cell_type": "code",
   "execution_count": 144,
   "metadata": {},
   "outputs": [
    {
     "name": "stdout",
     "output_type": "stream",
     "text": [
      "AdaBoostRegressor train\n",
      "explained_variance:  0.7694\n",
      "r2:  0.7677\n",
      "MAE:  3.2944\n",
      "MSE:  19.7783\n",
      "RMSE:  4.4473\n"
     ]
    }
   ],
   "source": [
    "regression_results(y_train, adaboost.predict(X_train),'AdaBoostRegressor train')"
   ]
  },
  {
   "cell_type": "code",
   "execution_count": 145,
   "metadata": {
    "scrolled": true
   },
   "outputs": [
    {
     "name": "stdout",
     "output_type": "stream",
     "text": [
      "AdaBoostRegressor test\n",
      "explained_variance:  0.6085\n",
      "r2:  0.6076\n",
      "MAE:  4.0311\n",
      "MSE:  31.9549\n",
      "RMSE:  5.6529\n"
     ]
    }
   ],
   "source": [
    "regression_results(y_test, adaboost.predict(X_test),'AdaBoostRegressor test')"
   ]
  },
  {
   "cell_type": "markdown",
   "metadata": {},
   "source": [
    "## Scikit-learn Gradient boosting - Minimizing  loss function\n",
    "the _GradientBoostingClassifier_ classifier works only with decision trees. so the model hyperparameters are given directly to the _GradientBoostingClassifier_.\n",
    "\n",
    "* https://scikit-learn.org/stable/modules/generated/sklearn.ensemble.GradientBoostingRegressor.html\n",
    "* http://scikit-learn.org/stable/modules/generated/sklearn.ensemble.GradientBoostingClassifier.html \n"
   ]
  },
  {
   "cell_type": "markdown",
   "metadata": {},
   "source": [
    "\n",
    "\n",
    "> **NOTE:** The features are always randomly permuted at each split. Therefore, the best found split may vary, even with the same training data and max_features=n_features, if the improvement of the criterion is identical for several splits enumerated during the search of the best split. To obtain a deterministic behaviour during fitting, random_state has to be fixed.\n",
    "\n",
    "### Lets run boston regression with Gradient boosting"
   ]
  },
  {
   "cell_type": "code",
   "execution_count": 147,
   "metadata": {},
   "outputs": [
    {
     "name": "stdout",
     "output_type": "stream",
     "text": [
      "      Iter       Train Loss   Remaining Time \n",
      "         1          83.7389            0.30s\n",
      "         2          82.3620            0.25s\n",
      "         3          81.0126            0.26s\n",
      "         4          79.6898            0.24s\n",
      "         5          78.3931            0.25s\n",
      "         6          77.1220            0.24s\n",
      "         7          75.8760            0.23s\n",
      "         8          74.6545            0.23s\n",
      "         9          73.4572            0.22s\n",
      "        10          72.2833            0.23s\n",
      "        20          61.5180            0.19s\n",
      "        30          52.5704            0.17s\n",
      "        40          45.1687            0.15s\n",
      "        50          38.9493            0.13s\n",
      "        60          33.7540            0.12s\n",
      "        70          29.3597            0.11s\n",
      "        80          25.6254            0.10s\n",
      "        90          22.4616            0.09s\n",
      "       100          19.8130            0.08s\n",
      "       200           7.6619            0.00s\n"
     ]
    },
    {
     "data": {
      "text/plain": [
       "GradientBoostingRegressor(alpha=0.9, criterion='friedman_mse', init=None,\n",
       "             learning_rate=0.01, loss='ls', max_depth=3, max_features=None,\n",
       "             max_leaf_nodes=None, min_impurity_decrease=0.0,\n",
       "             min_impurity_split=None, min_samples_leaf=1,\n",
       "             min_samples_split=2, min_weight_fraction_leaf=0.0,\n",
       "             n_estimators=200, n_iter_no_change=None, presort='auto',\n",
       "             random_state=None, subsample=1.0, tol=0.0001,\n",
       "             validation_fraction=0.1, verbose=1, warm_start=False)"
      ]
     },
     "execution_count": 147,
     "metadata": {},
     "output_type": "execute_result"
    }
   ],
   "source": [
    "clf_GB = GradientBoostingRegressor(max_depth=3,\n",
    "                                    n_estimators=200,\n",
    "                                    learning_rate=0.01, verbose=1)\n",
    "clf_GB.fit(X_train, y_train)"
   ]
  },
  {
   "cell_type": "code",
   "execution_count": 148,
   "metadata": {},
   "outputs": [
    {
     "name": "stdout",
     "output_type": "stream",
     "text": [
      "GradientBoostingRegressor train\n",
      "explained_variance:  0.91\n",
      "r2:  0.91\n",
      "MAE:  2.1631\n",
      "MSE:  7.6619\n",
      "RMSE:  2.768\n",
      "\n",
      "GradientBoostingRegressor test\n",
      "explained_variance:  0.7518\n",
      "r2:  0.7518\n",
      "MAE:  3.1145\n",
      "MSE:  20.2105\n",
      "RMSE:  4.4956\n"
     ]
    }
   ],
   "source": [
    "regression_results(y_train, clf_GB.predict(X_train),'GradientBoostingRegressor train')\n",
    "print()\n",
    "regression_results(y_test, clf_GB.predict(X_test),'GradientBoostingRegressor test')"
   ]
  },
  {
   "cell_type": "markdown",
   "metadata": {},
   "source": [
    "### Classification example with Gradient boosting"
   ]
  },
  {
   "cell_type": "code",
   "execution_count": 149,
   "metadata": {},
   "outputs": [],
   "source": [
    "data = datasets.load_digits()\n",
    "X = data['data']\n",
    "y = data['target']\n",
    "X_train, X_test, y_train, y_test = train_test_split(X,y, test_size=0.2,\n",
    "                                                        random_state=0)\n"
   ]
  },
  {
   "cell_type": "code",
   "execution_count": 150,
   "metadata": {},
   "outputs": [
    {
     "name": "stdout",
     "output_type": "stream",
     "text": [
      "      Iter       Train Loss   Remaining Time \n",
      "         1        3215.6313           11.55s\n",
      "         2        3129.8617           11.59s\n",
      "         3        3050.1777           10.36s\n",
      "         4        2975.8496            9.82s\n",
      "         5        2906.0649            9.77s\n",
      "         6        2840.5348            9.66s\n",
      "         7        2778.5467            9.33s\n",
      "         8        2719.7466            9.07s\n",
      "         9        2663.9756            8.87s\n",
      "        10        2610.4905            8.69s\n",
      "        20        2178.1802            7.85s\n",
      "        30        1861.2350            7.47s\n",
      "        40        1613.7877            7.14s\n",
      "        50        1415.8463            6.63s\n",
      "        60        1249.0973            6.13s\n",
      "        70        1107.8564            5.68s\n",
      "        80         987.0129            5.22s\n",
      "        90         882.8483            4.77s\n",
      "       100         791.2592            4.32s\n",
      "       200         283.9247            0.00s\n"
     ]
    },
    {
     "data": {
      "text/plain": [
       "GradientBoostingClassifier(criterion='friedman_mse', init=None,\n",
       "              learning_rate=0.01, loss='deviance', max_depth=3,\n",
       "              max_features=None, max_leaf_nodes=None,\n",
       "              min_impurity_decrease=0.0, min_impurity_split=None,\n",
       "              min_samples_leaf=1, min_samples_split=2,\n",
       "              min_weight_fraction_leaf=0.0, n_estimators=200,\n",
       "              n_iter_no_change=None, presort='auto', random_state=None,\n",
       "              subsample=1.0, tol=0.0001, validation_fraction=0.1,\n",
       "              verbose=1, warm_start=False)"
      ]
     },
     "execution_count": 150,
     "metadata": {},
     "output_type": "execute_result"
    }
   ],
   "source": [
    "clf_GB = GradientBoostingClassifier(max_depth=3,\n",
    "                                    n_estimators=200,\n",
    "                                    learning_rate=0.01, verbose=1)\n",
    "clf_GB.fit(X_train, y_train)"
   ]
  },
  {
   "cell_type": "code",
   "execution_count": 152,
   "metadata": {},
   "outputs": [
    {
     "name": "stdout",
     "output_type": "stream",
     "text": [
      "GradientBoostingClassifier train accuracy:  0.9861\n",
      "\n",
      "     0    1    2    3    4    5    6    7    8    9\n",
      "0  151    0    0    0    0    0    0    0    0    0\n",
      "1    0  146    0    1    0    0    0    0    0    0\n",
      "2    0    0  141    0    0    0    0    0    0    0\n",
      "3    0    1    0  149    0    2    0    1    1    0\n",
      "4    0    0    0    0  149    0    0    1    1    0\n",
      "5    0    0    0    0    0  141    0    0    0    1\n",
      "6    0    0    0    0    0    0  136    0    1    0\n",
      "7    0    0    0    1    0    0    0  137    0    2\n",
      "8    0    2    0    0    0    0    0    0  132    1\n",
      "9    0    0    0    1    0    0    0    1    2  135\n",
      "\n"
     ]
    }
   ],
   "source": [
    "classification_results(y_train, clf_GB.predict(X_train), name='GradientBoostingClassifier train', \n",
    "                       classes=data.target_names)"
   ]
  },
  {
   "cell_type": "code",
   "execution_count": 153,
   "metadata": {},
   "outputs": [
    {
     "name": "stdout",
     "output_type": "stream",
     "text": [
      "GradientBoostingClassifier test accuracy:  0.9333\n",
      "\n",
      "    0   1   2   3   4   5   6   7   8   9\n",
      "0  26   0   0   0   0   1   0   0   0   0\n",
      "1   0  32   0   1   0   0   0   0   0   2\n",
      "2   1   0  32   1   0   0   1   1   0   0\n",
      "3   0   0   0  28   0   0   0   0   0   1\n",
      "4   1   0   0   0  28   0   0   1   0   0\n",
      "5   0   1   0   0   0  38   0   0   0   1\n",
      "6   0   0   0   1   1   0  42   0   0   0\n",
      "7   0   0   0   0   1   0   0  38   0   0\n",
      "8   0   2   0   2   0   0   0   0  35   0\n",
      "9   1   0   0   1   0   1   0   0   1  37\n",
      "\n"
     ]
    }
   ],
   "source": [
    "classification_results(y_test, clf_GB.predict(X_test), name='GradientBoostingClassifier test', \n",
    "                       classes=data.target_names)"
   ]
  },
  {
   "cell_type": "markdown",
   "metadata": {},
   "source": [
    "## Learning Rate is importent"
   ]
  },
  {
   "cell_type": "code",
   "execution_count": 156,
   "metadata": {},
   "outputs": [
    {
     "data": {
      "image/png": "[encoded data removed]",
      "text/plain": [
       "<Figure size 432x288 with 1 Axes>"
      ]
     },
     "metadata": {
      "needs_background": "light"
     },
     "output_type": "display_data"
    }
   ],
   "source": [
    "original_params = {'n_estimators': 200, 'max_leaf_nodes': 3, \n",
    "                   'max_depth': 4, 'random_state': 2,\n",
    "                   'min_samples_split': 5}\n",
    "\n",
    "plt.figure()\n",
    "lr=0.01\n",
    "\n",
    "for label, color, setting in [('learning_rate=0.01',\n",
    "                               'blue',\n",
    "                               {'learning_rate': 0.01}),\n",
    "                              ('learning_rate=0.05', \n",
    "                               'turquoise',\n",
    "                               {'learning_rate': 0.05}), \n",
    "                              ('learning_rate=0.1',\n",
    "                               'magenta',\n",
    "                               {'learning_rate': 0.1})]:\n",
    "    params = dict(original_params)\n",
    "    params.update(setting)\n",
    "\n",
    "    clf = GradientBoostingClassifier(**params)\n",
    "    clf.fit(X_train, y_train)\n",
    "\n",
    "    # compute test set deviance\n",
    "    test_deviance = np.zeros((params['n_estimators'],), dtype=np.float64)\n",
    "\n",
    "    for i, y_pred in enumerate(clf.staged_decision_function(X_test)):\n",
    "        # clf.loss_ assumes that y_test[i] in {0, 1}\n",
    "        test_deviance[i] = clf.loss_(y_test, y_pred)\n",
    "\n",
    "    plt.plot((np.arange(test_deviance.shape[0]) + 1)[::2], \n",
    "             test_deviance[::2],\n",
    "            '-', color=color, label=label)\n",
    "\n",
    "plt.legend(loc='upper left')\n",
    "plt.xlabel('Boosting Iterations')\n",
    "plt.ylabel('Test Set Loss- Deviance')\n",
    "\n",
    "plt.show()"
   ]
  },
  {
   "cell_type": "code",
   "execution_count": 157,
   "metadata": {},
   "outputs": [
    {
     "name": "stdout",
     "output_type": "stream",
     "text": [
      "      Iter       Train Loss      OOB Improve   Remaining Time \n",
      "         1        1130.1151         434.8089           11.75s\n",
      "         2         919.9990         215.3436           12.67s\n",
      "         3         759.4727         141.7806           11.76s\n",
      "         4         629.2751         106.1392           11.69s\n",
      "         5         543.0480          82.3469           11.84s\n",
      "         6         462.0181          67.6475           11.47s\n",
      "         7         399.5957          54.0565           11.15s\n",
      "         8         355.1790          50.0597           10.87s\n",
      "         9         304.8483          37.0921           11.11s\n",
      "        10         271.8585          33.3579           11.14s\n",
      "        20          86.4413           6.9737           10.25s\n",
      "        30          31.6416           1.5343            9.61s\n",
      "        40          13.3038           0.4448            8.91s\n",
      "        50           6.6474           0.3513            8.35s\n",
      "        60           3.3100           0.0925            7.62s\n",
      "        70           1.6292           0.0269            6.91s\n",
      "        80           1.0442           0.0122            6.23s\n",
      "        90           0.5969           0.0044            5.54s\n",
      "       100           0.4007           0.0044            4.84s\n",
      "       200           0.2304          -0.0000            0.00s\n"
     ]
    },
    {
     "data": {
      "text/plain": [
       "GradientBoostingClassifier(criterion='friedman_mse', init=None,\n",
       "              learning_rate=0.1, loss='deviance', max_depth=4,\n",
       "              max_features=None, max_leaf_nodes=None,\n",
       "              min_impurity_decrease=0.0, min_impurity_split=None,\n",
       "              min_samples_leaf=1, min_samples_split=2,\n",
       "              min_weight_fraction_leaf=0.0, n_estimators=200,\n",
       "              n_iter_no_change=None, presort='auto', random_state=None,\n",
       "              subsample=0.5, tol=0.0001, validation_fraction=0.1,\n",
       "              verbose=1, warm_start=False)"
      ]
     },
     "execution_count": 157,
     "metadata": {},
     "output_type": "execute_result"
    }
   ],
   "source": [
    "clf_GB = GradientBoostingClassifier(max_depth=4,\n",
    "                                    n_estimators=200,\n",
    "                                    learning_rate=0.1, \n",
    "                                    subsample=0.5,verbose=1)\n",
    "clf_GB.fit(X_train, y_train)"
   ]
  },
  {
   "cell_type": "code",
   "execution_count": 159,
   "metadata": {},
   "outputs": [
    {
     "name": "stdout",
     "output_type": "stream",
     "text": [
      "GradientBoostingClassifier train accuracy:  1.0\n",
      "\n",
      "     0    1    2    3    4    5    6    7    8    9\n",
      "0  151    0    0    0    0    0    0    0    0    0\n",
      "1    0  147    0    0    0    0    0    0    0    0\n",
      "2    0    0  141    0    0    0    0    0    0    0\n",
      "3    0    0    0  154    0    0    0    0    0    0\n",
      "4    0    0    0    0  151    0    0    0    0    0\n",
      "5    0    0    0    0    0  142    0    0    0    0\n",
      "6    0    0    0    0    0    0  137    0    0    0\n",
      "7    0    0    0    0    0    0    0  140    0    0\n",
      "8    0    0    0    0    0    0    0    0  135    0\n",
      "9    0    0    0    0    0    0    0    0    0  139\n",
      "\n",
      "GradientBoostingClassifier test accuracy:  0.9694\n",
      "\n",
      "    0   1   2   3   4   5   6   7   8   9\n",
      "0  26   0   0   0   0   1   0   0   0   0\n",
      "1   0  34   0   0   1   0   0   0   0   0\n",
      "2   1   0  35   0   0   0   0   0   0   0\n",
      "3   0   0   0  29   0   0   0   0   0   0\n",
      "4   0   0   0   0  29   0   0   1   0   0\n",
      "5   0   0   0   1   0  39   0   0   0   0\n",
      "6   0   0   1   0   0   0  42   0   1   0\n",
      "7   0   0   0   0   0   0   0  39   0   0\n",
      "8   0   0   0   1   0   0   0   0  38   0\n",
      "9   1   0   0   1   0   1   0   0   0  38\n",
      "\n"
     ]
    }
   ],
   "source": [
    "classification_results(y_train, clf_GB.predict(X_train), name='GradientBoostingClassifier train', \n",
    "                       classes=data.target_names)\n",
    "classification_results(y_test, clf_GB.predict(X_test), name='GradientBoostingClassifier test', \n",
    "                       classes=data.target_names)"
   ]
  },
  {
   "cell_type": "markdown",
   "metadata": {},
   "source": [
    "# XGBoost\n",
    "to install on windows: \n",
    "`conda install -c anaconda py-xgboost ` \n",
    "\n",
    "Example's of regression and classification:\n",
    "* https://www.kaggle.com/stuarthallows/using-xgboost-with-scikit-learn"
   ]
  },
  {
   "cell_type": "code",
   "execution_count": 166,
   "metadata": {},
   "outputs": [],
   "source": [
    "data = datasets.load_digits()\n",
    "X = data['data']\n",
    "y = data['target']\n",
    "X_train, X_test, y_train, y_test = train_test_split(X,y, test_size=0.2,\n",
    "                                                        random_state=0)\n"
   ]
  },
  {
   "cell_type": "code",
   "execution_count": 168,
   "metadata": {},
   "outputs": [
    {
     "data": {
      "text/plain": [
       "((1437, 64), (1437,), (360, 64), (360,))"
      ]
     },
     "execution_count": 168,
     "metadata": {},
     "output_type": "execute_result"
    }
   ],
   "source": [
    "X_train.shape, y_train.shape, X_test.shape, y_test.shape"
   ]
  },
  {
   "cell_type": "code",
   "execution_count": 184,
   "metadata": {},
   "outputs": [
    {
     "data": {
      "text/plain": [
       "XGBClassifier(base_score=0.5, booster='gbtree', colsample_bylevel=1,\n",
       "       colsample_bytree=1, gamma=0, learning_rate=0.1, max_delta_step=0,\n",
       "       max_depth=4, min_child_weight=1, missing=None, n_estimators=200,\n",
       "       n_jobs=1, nthread=None, objective='multi:softprob', random_state=0,\n",
       "       reg_alpha=0, reg_lambda=1, scale_pos_weight=1, seed=None,\n",
       "       silent=True, subsample=0.5, verbose=1)"
      ]
     },
     "execution_count": 184,
     "metadata": {},
     "output_type": "execute_result"
    }
   ],
   "source": [
    "import xgboost as xgb\n",
    "\n",
    "xgb_model = xgb.XGBClassifier(max_depth=4,\n",
    "                                    n_estimators=200,\n",
    "                                    learning_rate=0.1, \n",
    "                                    subsample=0.5,verbose=1)\n",
    "\n",
    "\n",
    "xgb_model.fit(X_train, y_train, verbose=1)"
   ]
  },
  {
   "cell_type": "code",
   "execution_count": 185,
   "metadata": {},
   "outputs": [
    {
     "name": "stdout",
     "output_type": "stream",
     "text": [
      "XGBClassifier train accuracy:  1.0\n",
      "\n",
      "     0    1    2    3    4    5    6    7    8    9\n",
      "0  151    0    0    0    0    0    0    0    0    0\n",
      "1    0  147    0    0    0    0    0    0    0    0\n",
      "2    0    0  141    0    0    0    0    0    0    0\n",
      "3    0    0    0  154    0    0    0    0    0    0\n",
      "4    0    0    0    0  151    0    0    0    0    0\n",
      "5    0    0    0    0    0  142    0    0    0    0\n",
      "6    0    0    0    0    0    0  137    0    0    0\n",
      "7    0    0    0    0    0    0    0  140    0    0\n",
      "8    0    0    0    0    0    0    0    0  135    0\n",
      "9    0    0    0    0    0    0    0    0    0  139\n",
      "\n",
      "XGBClassifier test accuracy:  0.9667\n",
      "\n",
      "    0   1   2   3   4   5   6   7   8   9\n",
      "0  27   0   0   0   0   0   0   0   0   0\n",
      "1   0  33   0   0   1   0   0   0   0   1\n",
      "2   1   0  35   0   0   0   0   0   0   0\n",
      "3   0   0   0  29   0   0   0   0   0   0\n",
      "4   0   0   0   0  29   0   0   1   0   0\n",
      "5   0   0   0   0   0  38   0   0   0   2\n",
      "6   0   1   0   0   0   0  43   0   0   0\n",
      "7   0   0   0   0   0   0   0  39   0   0\n",
      "8   0   1   0   1   0   0   0   0  37   0\n",
      "9   1   0   0   1   0   1   0   0   0  38\n",
      "\n"
     ]
    }
   ],
   "source": [
    "classification_results(y_train, xgb_model.predict(X_train), name='XGBClassifier train', \n",
    "                       classes=data.target_names)\n",
    "classification_results(y_test, xgb_model.predict(X_test), name='XGBClassifier test', \n",
    "                       classes=data.target_names)"
   ]
  },
  {
   "cell_type": "code",
   "execution_count": null,
   "metadata": {},
   "outputs": [],
   "source": []
  }
 ],
 "metadata": {
  "anaconda-cloud": {},
  "kernelspec": {
   "display_name": "Python 3",
   "language": "python",
   "name": "python3"
  },
  "language_info": {
   "codemirror_mode": {
    "name": "ipython",
    "version": 3
   },
   "file_extension": ".py",
   "mimetype": "text/x-python",
   "name": "python",
   "nbconvert_exporter": "python",
   "pygments_lexer": "ipython3",
   "version": "3.6.6"
  }
 },
 "nbformat": 4,
 "nbformat_minor": 2
}
